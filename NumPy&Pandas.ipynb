{
  "nbformat": 4,
  "nbformat_minor": 0,
  "metadata": {
    "colab": {
      "name": "NumPy&Pandas.ipynb",
      "provenance": []
    },
    "kernelspec": {
      "name": "python3",
      "display_name": "Python 3"
    }
  },
  "cells": [
    {
      "cell_type": "markdown",
      "metadata": {
        "id": "9JxlqyaMCiTz",
        "colab_type": "text"
      },
      "source": [
        "Run the following code cell to import the NumPy module"
      ]
    },
    {
      "cell_type": "markdown",
      "metadata": {
        "id": "05obCZ1X_tpY",
        "colab_type": "text"
      },
      "source": [
        ""
      ]
    },
    {
      "cell_type": "markdown",
      "metadata": {
        "id": "Ejo8ving_D5N",
        "colab_type": "text"
      },
      "source": [
        ""
      ]
    },
    {
      "cell_type": "code",
      "metadata": {
        "id": "sXTwa4d1BkhN",
        "colab_type": "code",
        "colab": {}
      },
      "source": [
        "import numpy as np"
      ],
      "execution_count": 0,
      "outputs": []
    },
    {
      "cell_type": "markdown",
      "metadata": {
        "id": "w_7Rs9sWDCXq",
        "colab_type": "text"
      },
      "source": [
        "**Call np.array to create a NumPy matrix**"
      ]
    },
    {
      "cell_type": "code",
      "metadata": {
        "id": "f3TGvi8pDai1",
        "colab_type": "code",
        "outputId": "8e4b024c-5a33-408b-9ac0-2d89ce98d341",
        "colab": {
          "base_uri": "https://localhost:8080/",
          "height": 35
        }
      },
      "source": [
        "one_dim_array = np.array([1,2.2,3.3,4.4])\n",
        "print(one_dim_array)"
      ],
      "execution_count": 0,
      "outputs": [
        {
          "output_type": "stream",
          "text": [
            "[1.  2.2 3.3 4.4]\n"
          ],
          "name": "stdout"
        }
      ]
    },
    {
      "cell_type": "code",
      "metadata": {
        "id": "dmEWLiPSD70-",
        "colab_type": "code",
        "outputId": "28890d37-b01e-46d0-b3b7-8a5ffa4e3e38",
        "colab": {
          "base_uri": "https://localhost:8080/",
          "height": 69
        }
      },
      "source": [
        "two_dim_array = np.array([[1, 2], [2, 3], [3, 4]])\n",
        "print(two_dim_array)"
      ],
      "execution_count": 0,
      "outputs": [
        {
          "output_type": "stream",
          "text": [
            "[[1 2]\n",
            " [2 3]\n",
            " [3 4]]\n"
          ],
          "name": "stdout"
        }
      ]
    },
    {
      "cell_type": "markdown",
      "metadata": {
        "id": "nV5auYG9E_F_",
        "colab_type": "text"
      },
      "source": [
        "Populate Array With Sequence Numbers"
      ]
    },
    {
      "cell_type": "code",
      "metadata": {
        "id": "K1YAFTpeE9r9",
        "colab_type": "code",
        "outputId": "577e1615-4a3a-44a3-9a72-390211a2a15a",
        "colab": {
          "base_uri": "https://localhost:8080/",
          "height": 35
        }
      },
      "source": [
        "seq_of_integers = np.arange(1, 11)\n",
        "print(seq_of_integers)"
      ],
      "execution_count": 0,
      "outputs": [
        {
          "output_type": "stream",
          "text": [
            "[ 1  2  3  4  5  6  7  8  9 10]\n"
          ],
          "name": "stdout"
        }
      ]
    },
    {
      "cell_type": "markdown",
      "metadata": {
        "id": "HPRP6L-fFXck",
        "colab_type": "text"
      },
      "source": [
        "populate Array with Random Numbers\n"
      ]
    },
    {
      "cell_type": "code",
      "metadata": {
        "id": "Q03utdO5FcA7",
        "colab_type": "code",
        "outputId": "c1eff824-71a2-47f8-f9fa-aeac2a118866",
        "colab": {
          "base_uri": "https://localhost:8080/",
          "height": 35
        }
      },
      "source": [
        "random_int_between_10_and_100 = np.random.randint(low=10, high=101, size=(6))\n",
        "print(random_int_between_10_and_100)"
      ],
      "execution_count": 0,
      "outputs": [
        {
          "output_type": "stream",
          "text": [
            "[62 56 86 17 48 96]\n"
          ],
          "name": "stdout"
        }
      ]
    },
    {
      "cell_type": "markdown",
      "metadata": {
        "id": "ibGooLLVF2bM",
        "colab_type": "text"
      },
      "source": [
        "populate array with random floating values\n"
      ]
    },
    {
      "cell_type": "code",
      "metadata": {
        "id": "vBqIVmoNF7-s",
        "colab_type": "code",
        "outputId": "3853cb6a-7aba-48e5-f486-9504f9bb3d78",
        "colab": {
          "base_uri": "https://localhost:8080/",
          "height": 35
        }
      },
      "source": [
        "ran_floats_between_0_and_1 = np.random.random([6])\n",
        "print(ran_floats_between_0_and_1) "
      ],
      "execution_count": 0,
      "outputs": [
        {
          "output_type": "stream",
          "text": [
            "[0.46275136 0.53384862 0.81310869 0.73206752 0.46178785 0.25729944]\n"
          ],
          "name": "stdout"
        }
      ]
    },
    {
      "cell_type": "markdown",
      "metadata": {
        "id": "2uscybTgGY3Y",
        "colab_type": "text"
      },
      "source": [
        "Mathemathical operations on NumPy"
      ]
    },
    {
      "cell_type": "code",
      "metadata": {
        "id": "VUVEiu3yGcwl",
        "colab_type": "code",
        "outputId": "9dfca612-b446-4c86-e1f4-79b972d76f78",
        "colab": {
          "base_uri": "https://localhost:8080/",
          "height": 35
        }
      },
      "source": [
        "ran_floats_between_2_and_3 = ran_floats_between_0_and_1 + 2.0\n",
        "print(ran_floats_between_2_and_3)"
      ],
      "execution_count": 0,
      "outputs": [
        {
          "output_type": "stream",
          "text": [
            "[2.46275136 2.53384862 2.81310869 2.73206752 2.46178785 2.25729944]\n"
          ],
          "name": "stdout"
        }
      ]
    },
    {
      "cell_type": "markdown",
      "metadata": {
        "id": "4RhMZo-lqq92",
        "colab_type": "text"
      },
      "source": [
        "Create a dataset\n"
      ]
    },
    {
      "cell_type": "code",
      "metadata": {
        "id": "UQNksSeVGzxc",
        "colab_type": "code",
        "outputId": "233f7496-5707-4f49-abf3-32bde8abe083",
        "colab": {
          "base_uri": "https://localhost:8080/",
          "height": 52
        }
      },
      "source": [
        "feature = np.arange(6, 21)\n",
        "print(feature)\n",
        "label = (feature * 3) + 4\n",
        "print(label)"
      ],
      "execution_count": 0,
      "outputs": [
        {
          "output_type": "stream",
          "text": [
            "[ 6  7  8  9 10 11 12 13 14 15 16 17 18 19 20]\n",
            "[22 25 28 31 34 37 40 43 46 49 52 55 58 61 64]\n"
          ],
          "name": "stdout"
        }
      ]
    },
    {
      "cell_type": "markdown",
      "metadata": {
        "id": "LG1G5lpGsGwn",
        "colab_type": "text"
      },
      "source": [
        "Add Noise to dataset"
      ]
    },
    {
      "cell_type": "code",
      "metadata": {
        "id": "Xx0h9FOJsKzi",
        "colab_type": "code",
        "outputId": "5d2c6671-a836-406f-e483-cc8a7868ef5a",
        "colab": {
          "base_uri": "https://localhost:8080/",
          "height": 121
        }
      },
      "source": [
        "noise = (np.random.random([15]) * 4) - 2\n",
        "print(noise)\n",
        "label = label + noise \n",
        "print(label)"
      ],
      "execution_count": 0,
      "outputs": [
        {
          "output_type": "stream",
          "text": [
            "[ 1.70442349  1.6179547   0.36230522  0.96523047  0.69094787  1.98998436\n",
            "  1.83300788 -1.73419284  1.15876359 -0.21568172 -1.75845457  0.05640207\n",
            " -0.07455456  0.63926597 -0.53115099]\n",
            "[23.70442349 26.6179547  28.36230522 31.96523047 34.69094787 38.98998436\n",
            " 41.83300788 41.26580716 47.15876359 48.78431828 50.24154543 55.05640207\n",
            " 57.92544544 61.63926597 63.46884901]\n"
          ],
          "name": "stdout"
        }
      ]
    },
    {
      "cell_type": "markdown",
      "metadata": {
        "id": "GSGM8e8xxEKC",
        "colab_type": "text"
      },
      "source": [
        "**Pandas**"
      ]
    },
    {
      "cell_type": "code",
      "metadata": {
        "id": "kIqdw478xId8",
        "colab_type": "code",
        "colab": {}
      },
      "source": [
        "import pandas as pd"
      ],
      "execution_count": 0,
      "outputs": []
    },
    {
      "cell_type": "code",
      "metadata": {
        "id": "vL5SQCgH4lTM",
        "colab_type": "code",
        "outputId": "9859d9ac-adf2-467e-939f-954a2d4a980f",
        "colab": {
          "base_uri": "https://localhost:8080/",
          "height": 121
        }
      },
      "source": [
        "# Create and populate a 5x2 NumPy array.\n",
        "my_data = np.array([[0, 3], [10, 7], [20, 9], [30, 14], [40, 15]])\n",
        "\n",
        "# Create a Python list that holds the names of the two columns.\n",
        "my_column_names = ['temperature', 'activity']\n",
        "\n",
        "# Create a DataFrame.\n",
        "my_dataframe = pd.DataFrame(data=my_data, columns=my_column_names)\n",
        "\n",
        "# Print the entire DataFrame\n",
        "print(my_dataframe)"
      ],
      "execution_count": 0,
      "outputs": [
        {
          "output_type": "stream",
          "text": [
            "   temperature  activity\n",
            "0            0         3\n",
            "1           10         7\n",
            "2           20         9\n",
            "3           30        14\n",
            "4           40        15\n"
          ],
          "name": "stdout"
        }
      ]
    },
    {
      "cell_type": "markdown",
      "metadata": {
        "id": "_F_LwB5PzIjH",
        "colab_type": "text"
      },
      "source": [
        "Adding column to Dataframe"
      ]
    },
    {
      "cell_type": "code",
      "metadata": {
        "id": "Po9gqfPEzMJF",
        "colab_type": "code",
        "outputId": "a0848aae-b7f0-41fb-dceb-d37ad5cb30d3",
        "colab": {
          "base_uri": "https://localhost:8080/",
          "height": 121
        }
      },
      "source": [
        "# Create a new column named adjusted.\n",
        "my_dataframe[\"adjusted\"] = my_dataframe[\"activity\"] + 2\n",
        "\n",
        "# Print the entire DataFrame\n",
        "print(my_dataframe)"
      ],
      "execution_count": 0,
      "outputs": [
        {
          "output_type": "stream",
          "text": [
            "   temperature  activity  adjusted\n",
            "0            0         3         5\n",
            "1           10         7         9\n",
            "2           20         9        11\n",
            "3           30        14        16\n",
            "4           40        15        17\n"
          ],
          "name": "stdout"
        }
      ]
    },
    {
      "cell_type": "markdown",
      "metadata": {
        "id": "EKU9gHC6NE9c",
        "colab_type": "text"
      },
      "source": [
        "Subset of dataframe"
      ]
    },
    {
      "cell_type": "code",
      "metadata": {
        "id": "UCUt2MfkNJCe",
        "colab_type": "code",
        "outputId": "40f530c1-352f-4ad4-9a0b-dcb993587ea4",
        "colab": {
          "base_uri": "https://localhost:8080/",
          "height": 416
        }
      },
      "source": [
        "print(\"Rows #0, #1, and #2:\")\n",
        "print(my_dataframe.head(3), '\\n')\n",
        "\n",
        "print(\"Row #2:\")\n",
        "print(my_dataframe.iloc[[2]], '\\n')\n",
        "\n",
        "print(\"Rows #1, #2, and #3:\")\n",
        "print(my_dataframe[1:4], '\\n')\n",
        "\n",
        "print(\"Column 'temperature':\")\n",
        "print(my_dataframe['temperature'])"
      ],
      "execution_count": 0,
      "outputs": [
        {
          "output_type": "stream",
          "text": [
            "Rows #0, #1, and #2:\n",
            "   temperature  activity  adjusted\n",
            "0            0         3         5\n",
            "1           10         7         9\n",
            "2           20         9        11 \n",
            "\n",
            "Row #2:\n",
            "   temperature  activity  adjusted\n",
            "2           20         9        11 \n",
            "\n",
            "Rows #1, #2, and #3:\n",
            "   temperature  activity  adjusted\n",
            "1           10         7         9\n",
            "2           20         9        11\n",
            "3           30        14        16 \n",
            "\n",
            "Column 'temperature':\n",
            "0     0\n",
            "1    10\n",
            "2    20\n",
            "3    30\n",
            "4    40\n",
            "Name: temperature, dtype: int64\n"
          ],
          "name": "stdout"
        }
      ]
    },
    {
      "cell_type": "markdown",
      "metadata": {
        "id": "ROCtuoDyylve",
        "colab_type": "text"
      },
      "source": [
        "  "
      ]
    }
  ]
}