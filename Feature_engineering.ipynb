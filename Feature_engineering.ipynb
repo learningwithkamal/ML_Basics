{
  "nbformat": 4,
  "nbformat_minor": 0,
  "metadata": {
    "colab": {
      "name": "Feature_engineering.ipynb",
      "provenance": [],
      "collapsed_sections": [],
      "authorship_tag": "ABX9TyNvdAHnAwTp+d+E4NoKckTP",
      "include_colab_link": true
    },
    "kernelspec": {
      "name": "python3",
      "display_name": "Python 3"
    }
  },
  "cells": [
    {
      "cell_type": "markdown",
      "metadata": {
        "id": "view-in-github",
        "colab_type": "text"
      },
      "source": [
        "<a href=\"https://colab.research.google.com/github/learningwithkamal/ML_Basics/blob/master/Feature_engineering.ipynb\" target=\"_parent\"><img src=\"https://colab.research.google.com/assets/colab-badge.svg\" alt=\"Open In Colab\"/></a>"
      ]
    },
    {
      "cell_type": "code",
      "metadata": {
        "id": "SLyQr7yZDE7p",
        "colab_type": "code",
        "colab": {
          "base_uri": "https://localhost:8080/",
          "height": 72
        },
        "outputId": "c0afa135-8bff-466c-f892-342acbad9513"
      },
      "source": [
        "import numpy as np\n",
        "import pandas as pd\n",
        "import matplotlib.pyplot as plt\n",
        "import seaborn as sns"
      ],
      "execution_count": 1,
      "outputs": [
        {
          "output_type": "stream",
          "text": [
            "/usr/local/lib/python3.6/dist-packages/statsmodels/tools/_testing.py:19: FutureWarning: pandas.util.testing is deprecated. Use the functions in the public API at pandas.testing instead.\n",
            "  import pandas.util.testing as tm\n"
          ],
          "name": "stderr"
        }
      ]
    },
    {
      "cell_type": "code",
      "metadata": {
        "id": "0QglNYxkTdYw",
        "colab_type": "code",
        "colab": {
          "base_uri": "https://localhost:8080/",
          "height": 508
        },
        "outputId": "3c2764eb-688b-4be7-8b1b-15d93e70e988"
      },
      "source": [
        "titanic_df = pd.read_csv(filepath_or_buffer=\"https://raw.githubusercontent.com/learningwithkamal/ML_Basics/master/Titanic_train.csv\")\n",
        "titanic_df.head(5)"
      ],
      "execution_count": 2,
      "outputs": [
        {
          "output_type": "execute_result",
          "data": {
            "text/html": [
              "<div>\n",
              "<style scoped>\n",
              "    .dataframe tbody tr th:only-of-type {\n",
              "        vertical-align: middle;\n",
              "    }\n",
              "\n",
              "    .dataframe tbody tr th {\n",
              "        vertical-align: top;\n",
              "    }\n",
              "\n",
              "    .dataframe thead th {\n",
              "        text-align: right;\n",
              "    }\n",
              "</style>\n",
              "<table border=\"1\" class=\"dataframe\">\n",
              "  <thead>\n",
              "    <tr style=\"text-align: right;\">\n",
              "      <th></th>\n",
              "      <th>PassengerId</th>\n",
              "      <th>Survived</th>\n",
              "      <th>Pclass</th>\n",
              "      <th>Name</th>\n",
              "      <th>Sex</th>\n",
              "      <th>Age</th>\n",
              "      <th>SibSp</th>\n",
              "      <th>Parch</th>\n",
              "      <th>Ticket</th>\n",
              "      <th>Fare</th>\n",
              "      <th>Cabin</th>\n",
              "      <th>Embarked</th>\n",
              "      <th>WikiId</th>\n",
              "      <th>Name_wiki</th>\n",
              "      <th>Age_wiki</th>\n",
              "      <th>Hometown</th>\n",
              "      <th>Boarded</th>\n",
              "      <th>Destination</th>\n",
              "      <th>Lifeboat</th>\n",
              "      <th>Body</th>\n",
              "      <th>Class</th>\n",
              "    </tr>\n",
              "  </thead>\n",
              "  <tbody>\n",
              "    <tr>\n",
              "      <th>0</th>\n",
              "      <td>1</td>\n",
              "      <td>0.0</td>\n",
              "      <td>3</td>\n",
              "      <td>Braund, Mr. Owen Harris</td>\n",
              "      <td>male</td>\n",
              "      <td>22.0</td>\n",
              "      <td>1</td>\n",
              "      <td>0</td>\n",
              "      <td>A/5 21171</td>\n",
              "      <td>7.2500</td>\n",
              "      <td>NaN</td>\n",
              "      <td>S</td>\n",
              "      <td>691.0</td>\n",
              "      <td>Braund, Mr. Owen Harris</td>\n",
              "      <td>22.0</td>\n",
              "      <td>Bridgerule, Devon, England</td>\n",
              "      <td>Southampton</td>\n",
              "      <td>Qu'Appelle Valley, Saskatchewan, Canada</td>\n",
              "      <td>NaN</td>\n",
              "      <td>NaN</td>\n",
              "      <td>3.0</td>\n",
              "    </tr>\n",
              "    <tr>\n",
              "      <th>1</th>\n",
              "      <td>2</td>\n",
              "      <td>1.0</td>\n",
              "      <td>1</td>\n",
              "      <td>Cumings, Mrs. John Bradley (Florence Briggs Th...</td>\n",
              "      <td>female</td>\n",
              "      <td>38.0</td>\n",
              "      <td>1</td>\n",
              "      <td>0</td>\n",
              "      <td>PC 17599</td>\n",
              "      <td>71.2833</td>\n",
              "      <td>C85</td>\n",
              "      <td>C</td>\n",
              "      <td>90.0</td>\n",
              "      <td>Cumings, Mrs. Florence Briggs (née Thayer)</td>\n",
              "      <td>35.0</td>\n",
              "      <td>New York, New York, US</td>\n",
              "      <td>Cherbourg</td>\n",
              "      <td>New York, New York, US</td>\n",
              "      <td>4</td>\n",
              "      <td>NaN</td>\n",
              "      <td>1.0</td>\n",
              "    </tr>\n",
              "    <tr>\n",
              "      <th>2</th>\n",
              "      <td>3</td>\n",
              "      <td>1.0</td>\n",
              "      <td>3</td>\n",
              "      <td>Heikkinen, Miss. Laina</td>\n",
              "      <td>female</td>\n",
              "      <td>26.0</td>\n",
              "      <td>0</td>\n",
              "      <td>0</td>\n",
              "      <td>STON/O2. 3101282</td>\n",
              "      <td>7.9250</td>\n",
              "      <td>NaN</td>\n",
              "      <td>S</td>\n",
              "      <td>865.0</td>\n",
              "      <td>Heikkinen, Miss Laina</td>\n",
              "      <td>26.0</td>\n",
              "      <td>Jyväskylä, Finland</td>\n",
              "      <td>Southampton</td>\n",
              "      <td>New York City</td>\n",
              "      <td>14?</td>\n",
              "      <td>NaN</td>\n",
              "      <td>3.0</td>\n",
              "    </tr>\n",
              "    <tr>\n",
              "      <th>3</th>\n",
              "      <td>4</td>\n",
              "      <td>1.0</td>\n",
              "      <td>1</td>\n",
              "      <td>Futrelle, Mrs. Jacques Heath (Lily May Peel)</td>\n",
              "      <td>female</td>\n",
              "      <td>35.0</td>\n",
              "      <td>1</td>\n",
              "      <td>0</td>\n",
              "      <td>113803</td>\n",
              "      <td>53.1000</td>\n",
              "      <td>C123</td>\n",
              "      <td>S</td>\n",
              "      <td>127.0</td>\n",
              "      <td>Futrelle, Mrs. Lily May (née Peel)</td>\n",
              "      <td>35.0</td>\n",
              "      <td>Scituate, Massachusetts, US</td>\n",
              "      <td>Southampton</td>\n",
              "      <td>Scituate, Massachusetts, US</td>\n",
              "      <td>D</td>\n",
              "      <td>NaN</td>\n",
              "      <td>1.0</td>\n",
              "    </tr>\n",
              "    <tr>\n",
              "      <th>4</th>\n",
              "      <td>5</td>\n",
              "      <td>0.0</td>\n",
              "      <td>3</td>\n",
              "      <td>Allen, Mr. William Henry</td>\n",
              "      <td>male</td>\n",
              "      <td>35.0</td>\n",
              "      <td>0</td>\n",
              "      <td>0</td>\n",
              "      <td>373450</td>\n",
              "      <td>8.0500</td>\n",
              "      <td>NaN</td>\n",
              "      <td>S</td>\n",
              "      <td>627.0</td>\n",
              "      <td>Allen, Mr. William Henry</td>\n",
              "      <td>35.0</td>\n",
              "      <td>Birmingham, West Midlands, England</td>\n",
              "      <td>Southampton</td>\n",
              "      <td>New York City</td>\n",
              "      <td>NaN</td>\n",
              "      <td>NaN</td>\n",
              "      <td>3.0</td>\n",
              "    </tr>\n",
              "  </tbody>\n",
              "</table>\n",
              "</div>"
            ],
            "text/plain": [
              "   PassengerId  Survived  Pclass  ... Lifeboat Body  Class\n",
              "0            1       0.0       3  ...      NaN  NaN    3.0\n",
              "1            2       1.0       1  ...        4  NaN    1.0\n",
              "2            3       1.0       3  ...      14?  NaN    3.0\n",
              "3            4       1.0       1  ...        D  NaN    1.0\n",
              "4            5       0.0       3  ...      NaN  NaN    3.0\n",
              "\n",
              "[5 rows x 21 columns]"
            ]
          },
          "metadata": {
            "tags": []
          },
          "execution_count": 2
        }
      ]
    },
    {
      "cell_type": "code",
      "metadata": {
        "id": "NMZVw6foT3mm",
        "colab_type": "code",
        "colab": {
          "base_uri": "https://localhost:8080/",
          "height": 403
        },
        "outputId": "c54b81fb-3f3b-4cfa-f5f6-7f1c0d453bef"
      },
      "source": [
        "print(titanic_df.apply(lambda x: sum(x.isnull()),axis=0))"
      ],
      "execution_count": 3,
      "outputs": [
        {
          "output_type": "stream",
          "text": [
            "PassengerId      0\n",
            "Survived         0\n",
            "Pclass           0\n",
            "Name             0\n",
            "Sex              0\n",
            "Age            177\n",
            "SibSp            0\n",
            "Parch            0\n",
            "Ticket           0\n",
            "Fare             0\n",
            "Cabin          687\n",
            "Embarked         2\n",
            "WikiId           2\n",
            "Name_wiki        2\n",
            "Age_wiki         4\n",
            "Hometown         2\n",
            "Boarded          2\n",
            "Destination      2\n",
            "Lifeboat       546\n",
            "Body           804\n",
            "Class            2\n",
            "dtype: int64\n"
          ],
          "name": "stdout"
        }
      ]
    },
    {
      "cell_type": "markdown",
      "metadata": {
        "id": "TZeKbtmuUKcw",
        "colab_type": "text"
      },
      "source": [
        "# there are missing values in “Age”,“Cabin” and “Embarked” features\n",
        "\n",
        "# “Name”, “Sex”, “Ticket”, “Cabin” and “Embarked” are all non-numeric features"
      ]
    },
    {
      "cell_type": "code",
      "metadata": {
        "id": "JTAV2KhGUypF",
        "colab_type": "code",
        "colab": {
          "base_uri": "https://localhost:8080/",
          "height": 508
        },
        "outputId": "118d61d1-0ab2-41c6-c9f8-475ce29526dc"
      },
      "source": [
        "titanic_df[\"Sex\"] = titanic_df[\"Sex\"].map({\"male\": 1, \"female\":0})\n",
        "titanic_df.head(5)"
      ],
      "execution_count": 4,
      "outputs": [
        {
          "output_type": "execute_result",
          "data": {
            "text/html": [
              "<div>\n",
              "<style scoped>\n",
              "    .dataframe tbody tr th:only-of-type {\n",
              "        vertical-align: middle;\n",
              "    }\n",
              "\n",
              "    .dataframe tbody tr th {\n",
              "        vertical-align: top;\n",
              "    }\n",
              "\n",
              "    .dataframe thead th {\n",
              "        text-align: right;\n",
              "    }\n",
              "</style>\n",
              "<table border=\"1\" class=\"dataframe\">\n",
              "  <thead>\n",
              "    <tr style=\"text-align: right;\">\n",
              "      <th></th>\n",
              "      <th>PassengerId</th>\n",
              "      <th>Survived</th>\n",
              "      <th>Pclass</th>\n",
              "      <th>Name</th>\n",
              "      <th>Sex</th>\n",
              "      <th>Age</th>\n",
              "      <th>SibSp</th>\n",
              "      <th>Parch</th>\n",
              "      <th>Ticket</th>\n",
              "      <th>Fare</th>\n",
              "      <th>Cabin</th>\n",
              "      <th>Embarked</th>\n",
              "      <th>WikiId</th>\n",
              "      <th>Name_wiki</th>\n",
              "      <th>Age_wiki</th>\n",
              "      <th>Hometown</th>\n",
              "      <th>Boarded</th>\n",
              "      <th>Destination</th>\n",
              "      <th>Lifeboat</th>\n",
              "      <th>Body</th>\n",
              "      <th>Class</th>\n",
              "    </tr>\n",
              "  </thead>\n",
              "  <tbody>\n",
              "    <tr>\n",
              "      <th>0</th>\n",
              "      <td>1</td>\n",
              "      <td>0.0</td>\n",
              "      <td>3</td>\n",
              "      <td>Braund, Mr. Owen Harris</td>\n",
              "      <td>1</td>\n",
              "      <td>22.0</td>\n",
              "      <td>1</td>\n",
              "      <td>0</td>\n",
              "      <td>A/5 21171</td>\n",
              "      <td>7.2500</td>\n",
              "      <td>NaN</td>\n",
              "      <td>S</td>\n",
              "      <td>691.0</td>\n",
              "      <td>Braund, Mr. Owen Harris</td>\n",
              "      <td>22.0</td>\n",
              "      <td>Bridgerule, Devon, England</td>\n",
              "      <td>Southampton</td>\n",
              "      <td>Qu'Appelle Valley, Saskatchewan, Canada</td>\n",
              "      <td>NaN</td>\n",
              "      <td>NaN</td>\n",
              "      <td>3.0</td>\n",
              "    </tr>\n",
              "    <tr>\n",
              "      <th>1</th>\n",
              "      <td>2</td>\n",
              "      <td>1.0</td>\n",
              "      <td>1</td>\n",
              "      <td>Cumings, Mrs. John Bradley (Florence Briggs Th...</td>\n",
              "      <td>0</td>\n",
              "      <td>38.0</td>\n",
              "      <td>1</td>\n",
              "      <td>0</td>\n",
              "      <td>PC 17599</td>\n",
              "      <td>71.2833</td>\n",
              "      <td>C85</td>\n",
              "      <td>C</td>\n",
              "      <td>90.0</td>\n",
              "      <td>Cumings, Mrs. Florence Briggs (née Thayer)</td>\n",
              "      <td>35.0</td>\n",
              "      <td>New York, New York, US</td>\n",
              "      <td>Cherbourg</td>\n",
              "      <td>New York, New York, US</td>\n",
              "      <td>4</td>\n",
              "      <td>NaN</td>\n",
              "      <td>1.0</td>\n",
              "    </tr>\n",
              "    <tr>\n",
              "      <th>2</th>\n",
              "      <td>3</td>\n",
              "      <td>1.0</td>\n",
              "      <td>3</td>\n",
              "      <td>Heikkinen, Miss. Laina</td>\n",
              "      <td>0</td>\n",
              "      <td>26.0</td>\n",
              "      <td>0</td>\n",
              "      <td>0</td>\n",
              "      <td>STON/O2. 3101282</td>\n",
              "      <td>7.9250</td>\n",
              "      <td>NaN</td>\n",
              "      <td>S</td>\n",
              "      <td>865.0</td>\n",
              "      <td>Heikkinen, Miss Laina</td>\n",
              "      <td>26.0</td>\n",
              "      <td>Jyväskylä, Finland</td>\n",
              "      <td>Southampton</td>\n",
              "      <td>New York City</td>\n",
              "      <td>14?</td>\n",
              "      <td>NaN</td>\n",
              "      <td>3.0</td>\n",
              "    </tr>\n",
              "    <tr>\n",
              "      <th>3</th>\n",
              "      <td>4</td>\n",
              "      <td>1.0</td>\n",
              "      <td>1</td>\n",
              "      <td>Futrelle, Mrs. Jacques Heath (Lily May Peel)</td>\n",
              "      <td>0</td>\n",
              "      <td>35.0</td>\n",
              "      <td>1</td>\n",
              "      <td>0</td>\n",
              "      <td>113803</td>\n",
              "      <td>53.1000</td>\n",
              "      <td>C123</td>\n",
              "      <td>S</td>\n",
              "      <td>127.0</td>\n",
              "      <td>Futrelle, Mrs. Lily May (née Peel)</td>\n",
              "      <td>35.0</td>\n",
              "      <td>Scituate, Massachusetts, US</td>\n",
              "      <td>Southampton</td>\n",
              "      <td>Scituate, Massachusetts, US</td>\n",
              "      <td>D</td>\n",
              "      <td>NaN</td>\n",
              "      <td>1.0</td>\n",
              "    </tr>\n",
              "    <tr>\n",
              "      <th>4</th>\n",
              "      <td>5</td>\n",
              "      <td>0.0</td>\n",
              "      <td>3</td>\n",
              "      <td>Allen, Mr. William Henry</td>\n",
              "      <td>1</td>\n",
              "      <td>35.0</td>\n",
              "      <td>0</td>\n",
              "      <td>0</td>\n",
              "      <td>373450</td>\n",
              "      <td>8.0500</td>\n",
              "      <td>NaN</td>\n",
              "      <td>S</td>\n",
              "      <td>627.0</td>\n",
              "      <td>Allen, Mr. William Henry</td>\n",
              "      <td>35.0</td>\n",
              "      <td>Birmingham, West Midlands, England</td>\n",
              "      <td>Southampton</td>\n",
              "      <td>New York City</td>\n",
              "      <td>NaN</td>\n",
              "      <td>NaN</td>\n",
              "      <td>3.0</td>\n",
              "    </tr>\n",
              "  </tbody>\n",
              "</table>\n",
              "</div>"
            ],
            "text/plain": [
              "   PassengerId  Survived  Pclass  ... Lifeboat  Body  Class\n",
              "0            1       0.0       3  ...      NaN   NaN    3.0\n",
              "1            2       1.0       1  ...        4   NaN    1.0\n",
              "2            3       1.0       3  ...      14?   NaN    3.0\n",
              "3            4       1.0       1  ...        D   NaN    1.0\n",
              "4            5       0.0       3  ...      NaN   NaN    3.0\n",
              "\n",
              "[5 rows x 21 columns]"
            ]
          },
          "metadata": {
            "tags": []
          },
          "execution_count": 4
        }
      ]
    },
    {
      "cell_type": "markdown",
      "metadata": {
        "id": "aqfR2XTlYee9",
        "colab_type": "text"
      },
      "source": [
        "# check the current content of the “Embarked” feature:"
      ]
    },
    {
      "cell_type": "code",
      "metadata": {
        "id": "6VwcejPqYhVw",
        "colab_type": "code",
        "colab": {
          "base_uri": "https://localhost:8080/",
          "height": 157
        },
        "outputId": "d9e4f604-87a5-4d54-9f89-cf2bd7826c61"
      },
      "source": [
        "print(titanic_df['Embarked'].value_counts(ascending=True))\n",
        "print(titanic_df['Embarked'].value_counts(normalize=True,ascending=True))"
      ],
      "execution_count": 5,
      "outputs": [
        {
          "output_type": "stream",
          "text": [
            "Q     77\n",
            "C    168\n",
            "S    644\n",
            "Name: Embarked, dtype: int64\n",
            "Q    0.086614\n",
            "C    0.188976\n",
            "S    0.724409\n",
            "Name: Embarked, dtype: float64\n"
          ],
          "name": "stdout"
        }
      ]
    },
    {
      "cell_type": "markdown",
      "metadata": {
        "id": "sGIZuhhdY38z",
        "colab_type": "text"
      },
      "source": [
        "# we can fill “S” into the 2 missing values and map all values into numbers."
      ]
    },
    {
      "cell_type": "code",
      "metadata": {
        "id": "ir72lA5BY6k-",
        "colab_type": "code",
        "colab": {}
      },
      "source": [
        "titanic_df['Embarked'] = titanic_df['Embarked'].fillna('S')\n",
        "titanic_df['Embarked'] = titanic_df['Embarked'].map( {'S': 0, 'C': 1, 'Q': 2} ).astype(int)"
      ],
      "execution_count": 6,
      "outputs": []
    },
    {
      "cell_type": "markdown",
      "metadata": {
        "id": "ex-bPB1xZUND",
        "colab_type": "text"
      },
      "source": [
        "# For “Cabin” feature, since there are 687 out of 891 missing records, we can simply skip this feature.\n",
        "# There is no null values in “Ticket” feature, but we hardly find relationship between survival rate and ticket number, so we skip this feature as well."
      ]
    },
    {
      "cell_type": "markdown",
      "metadata": {
        "id": "5hapgrzHbjYr",
        "colab_type": "text"
      },
      "source": [
        "Now we anlayze the non-numberic feature \"Name\"\n",
        "Each value of this feature has a title i.e. Mr, Mrs"
      ]
    },
    {
      "cell_type": "code",
      "metadata": {
        "id": "HdPhSAPwZbuT",
        "colab_type": "code",
        "colab": {
          "base_uri": "https://localhost:8080/",
          "height": 333
        },
        "outputId": "ae724aac-95d8-4004-e092-ee7fcfda0d56"
      },
      "source": [
        "titanic_df['Title'] = titanic_df['Name'].apply(lambda x: x.split(\",\")[1].split(\".\")[0].strip())\n",
        "print(titanic_df['Title'].value_counts(ascending=True, dropna=False))"
      ],
      "execution_count": 7,
      "outputs": [
        {
          "output_type": "stream",
          "text": [
            "Capt              1\n",
            "Ms                1\n",
            "Don               1\n",
            "Sir               1\n",
            "Lady              1\n",
            "Mme               1\n",
            "the Countess      1\n",
            "Jonkheer          1\n",
            "Col               2\n",
            "Mlle              2\n",
            "Major             2\n",
            "Rev               6\n",
            "Dr                7\n",
            "Master           40\n",
            "Mrs             125\n",
            "Miss            182\n",
            "Mr              517\n",
            "Name: Title, dtype: int64\n"
          ],
          "name": "stdout"
        }
      ]
    },
    {
      "cell_type": "markdown",
      "metadata": {
        "id": "djVRxv9FfwgG",
        "colab_type": "text"
      },
      "source": [
        "# We group different titles according to their similarity\n",
        "And see their relation with survival rate"
      ]
    },
    {
      "cell_type": "code",
      "metadata": {
        "id": "q6tUMM7Qf1ox",
        "colab_type": "code",
        "colab": {
          "base_uri": "https://localhost:8080/",
          "height": 279
        },
        "outputId": "1ae52631-76d9-46eb-b5e1-72844a57a62e"
      },
      "source": [
        "titanic_df[\"Title\"] = titanic_df[\"Title\"].replace(['Lady', 'the Countess','Countess','Capt', 'Col','Don', 'Dr', 'Major', 'Rev', 'Sir', 'Jonkheer', 'Dona'], 'Rare')\n",
        "titanic_df['Title'] = titanic_df['Title'].replace('Mlle', 'Miss')\n",
        "titanic_df['Title'] = titanic_df['Title'].replace('Ms', 'Miss')\n",
        "titanic_df['Title'] = titanic_df['Title'].replace('Mme', 'Mrs')\n",
        "\n",
        "sns.barplot(x=\"Title\", y=\"Survived\", data=titanic_df)\n",
        " \n",
        "plt.show()"
      ],
      "execution_count": 8,
      "outputs": [
        {
          "output_type": "display_data",
          "data": {
            "image/png": "[encoded data removed]",
            "text/plain": [
              "<Figure size 432x288 with 1 Axes>"
            ]
          },
          "metadata": {
            "tags": [],
            "needs_background": "light"
          }
        }
      ]
    },
    {
      "cell_type": "code",
      "metadata": {
        "id": "nYHnav04grYd",
        "colab_type": "code",
        "colab": {
          "base_uri": "https://localhost:8080/",
          "height": 199
        },
        "outputId": "f6e53bb4-8889-4e47-d134-205b7ca9fbbc"
      },
      "source": [
        "title_mapping = {\"Mr\": 1, \"Miss\": 2, \"Mrs\": 3, \"Master\": 4, \"Rare\": 5}\n",
        "titanic_df['Title'] = titanic_df['Title'].map(title_mapping)\n",
        " \n",
        "titanic_df = titanic_df.drop([\"Name\", \"Ticket\", \"Cabin\",'Name_wiki','Hometown','Boarded','Destination','Lifeboat','Body','WikiId'], axis=1)\n",
        "titanic_df.head(5)"
      ],
      "execution_count": 9,
      "outputs": [
        {
          "output_type": "execute_result",
          "data": {
            "text/html": [
              "<div>\n",
              "<style scoped>\n",
              "    .dataframe tbody tr th:only-of-type {\n",
              "        vertical-align: middle;\n",
              "    }\n",
              "\n",
              "    .dataframe tbody tr th {\n",
              "        vertical-align: top;\n",
              "    }\n",
              "\n",
              "    .dataframe thead th {\n",
              "        text-align: right;\n",
              "    }\n",
              "</style>\n",
              "<table border=\"1\" class=\"dataframe\">\n",
              "  <thead>\n",
              "    <tr style=\"text-align: right;\">\n",
              "      <th></th>\n",
              "      <th>PassengerId</th>\n",
              "      <th>Survived</th>\n",
              "      <th>Pclass</th>\n",
              "      <th>Sex</th>\n",
              "      <th>Age</th>\n",
              "      <th>SibSp</th>\n",
              "      <th>Parch</th>\n",
              "      <th>Fare</th>\n",
              "      <th>Embarked</th>\n",
              "      <th>Age_wiki</th>\n",
              "      <th>Class</th>\n",
              "      <th>Title</th>\n",
              "    </tr>\n",
              "  </thead>\n",
              "  <tbody>\n",
              "    <tr>\n",
              "      <th>0</th>\n",
              "      <td>1</td>\n",
              "      <td>0.0</td>\n",
              "      <td>3</td>\n",
              "      <td>1</td>\n",
              "      <td>22.0</td>\n",
              "      <td>1</td>\n",
              "      <td>0</td>\n",
              "      <td>7.2500</td>\n",
              "      <td>0</td>\n",
              "      <td>22.0</td>\n",
              "      <td>3.0</td>\n",
              "      <td>1</td>\n",
              "    </tr>\n",
              "    <tr>\n",
              "      <th>1</th>\n",
              "      <td>2</td>\n",
              "      <td>1.0</td>\n",
              "      <td>1</td>\n",
              "      <td>0</td>\n",
              "      <td>38.0</td>\n",
              "      <td>1</td>\n",
              "      <td>0</td>\n",
              "      <td>71.2833</td>\n",
              "      <td>1</td>\n",
              "      <td>35.0</td>\n",
              "      <td>1.0</td>\n",
              "      <td>3</td>\n",
              "    </tr>\n",
              "    <tr>\n",
              "      <th>2</th>\n",
              "      <td>3</td>\n",
              "      <td>1.0</td>\n",
              "      <td>3</td>\n",
              "      <td>0</td>\n",
              "      <td>26.0</td>\n",
              "      <td>0</td>\n",
              "      <td>0</td>\n",
              "      <td>7.9250</td>\n",
              "      <td>0</td>\n",
              "      <td>26.0</td>\n",
              "      <td>3.0</td>\n",
              "      <td>2</td>\n",
              "    </tr>\n",
              "    <tr>\n",
              "      <th>3</th>\n",
              "      <td>4</td>\n",
              "      <td>1.0</td>\n",
              "      <td>1</td>\n",
              "      <td>0</td>\n",
              "      <td>35.0</td>\n",
              "      <td>1</td>\n",
              "      <td>0</td>\n",
              "      <td>53.1000</td>\n",
              "      <td>0</td>\n",
              "      <td>35.0</td>\n",
              "      <td>1.0</td>\n",
              "      <td>3</td>\n",
              "    </tr>\n",
              "    <tr>\n",
              "      <th>4</th>\n",
              "      <td>5</td>\n",
              "      <td>0.0</td>\n",
              "      <td>3</td>\n",
              "      <td>1</td>\n",
              "      <td>35.0</td>\n",
              "      <td>0</td>\n",
              "      <td>0</td>\n",
              "      <td>8.0500</td>\n",
              "      <td>0</td>\n",
              "      <td>35.0</td>\n",
              "      <td>3.0</td>\n",
              "      <td>1</td>\n",
              "    </tr>\n",
              "  </tbody>\n",
              "</table>\n",
              "</div>"
            ],
            "text/plain": [
              "   PassengerId  Survived  Pclass  Sex  ...  Embarked  Age_wiki  Class  Title\n",
              "0            1       0.0       3    1  ...         0      22.0    3.0      1\n",
              "1            2       1.0       1    0  ...         1      35.0    1.0      3\n",
              "2            3       1.0       3    0  ...         0      26.0    3.0      2\n",
              "3            4       1.0       1    0  ...         0      35.0    1.0      3\n",
              "4            5       0.0       3    1  ...         0      35.0    3.0      1\n",
              "\n",
              "[5 rows x 12 columns]"
            ]
          },
          "metadata": {
            "tags": []
          },
          "execution_count": 9
        }
      ]
    },
    {
      "cell_type": "markdown",
      "metadata": {
        "id": "ncTdoBw3ihgH",
        "colab_type": "text"
      },
      "source": [
        "# Now we focus on SibSP and Parch features"
      ]
    },
    {
      "cell_type": "code",
      "metadata": {
        "id": "aC4LPgYyincD",
        "colab_type": "code",
        "colab": {
          "base_uri": "https://localhost:8080/",
          "height": 279
        },
        "outputId": "3b6143f5-10be-494c-f832-d4fabac4f105"
      },
      "source": [
        "titanic_df['withParent']=0\n",
        "titanic_df['withSib']=0\n",
        " \n",
        "#titanic_df.loc[titanic_df['SibSp'] &gt; 0, 'withSibling'] = 1\n",
        "titanic_df.loc[titanic_df['SibSp'] > 0,'withSib'] = 1\n",
        "titanic_df.loc[titanic_df['Parch'] > 0, 'withParent'] = 1\n",
        " \n",
        "sns.barplot(x=\"withParent\", y=\"Survived\", hue=\"withSib\", data=titanic_df)\n",
        "plt.show()"
      ],
      "execution_count": 10,
      "outputs": [
        {
          "output_type": "display_data",
          "data": {
            "image/png": "[encoded data removed]",
            "text/plain": [
              "<Figure size 432x288 with 1 Axes>"
            ]
          },
          "metadata": {
            "tags": [],
            "needs_background": "light"
          }
        }
      ]
    },
    {
      "cell_type": "markdown",
      "metadata": {
        "id": "DdzB_pzFr_nI",
        "colab_type": "text"
      },
      "source": [
        "This shows Parent children have better chance of survival\n",
        "\n",
        "Now we look at Fare\n",
        "There are extreme values inside the “Fare” feature. On this case, we can use logarithm to remove the impact of extreme values.\n"
      ]
    },
    {
      "cell_type": "code",
      "metadata": {
        "id": "12fC6haZsGfy",
        "colab_type": "code",
        "colab": {
          "base_uri": "https://localhost:8080/",
          "height": 280
        },
        "outputId": "0f938db2-f548-438d-8890-a231e431be20"
      },
      "source": [
        "fare_dist = sns.distplot(titanic_df[\"Fare\"], color=\"m\", label=\"Skewness : %.2f\"%(titanic_df[\"Fare\"].skew()))\n",
        "fare_dist = fare_dist.legend(loc=\"best\")\n",
        "plt.show()"
      ],
      "execution_count": 11,
      "outputs": [
        {
          "output_type": "display_data",
          "data": {
            "image/png": "[encoded data removed]",
            "text/plain": [
              "<Figure size 432x288 with 1 Axes>"
            ]
          },
          "metadata": {
            "tags": [],
            "needs_background": "light"
          }
        }
      ]
    },
    {
      "cell_type": "code",
      "metadata": {
        "id": "KQuRPm4Wt1EX",
        "colab_type": "code",
        "colab": {
          "base_uri": "https://localhost:8080/",
          "height": 280
        },
        "outputId": "cc86b974-6240-4684-ebc3-74ed7941ef09"
      },
      "source": [
        "titanic_df[\"Fare\"] = titanic_df[\"Fare\"].fillna(titanic_df[\"Fare\"].median())\n",
        "titanic_df['Fare_log'] = titanic_df[\"Fare\"].map(lambda i: np.log(i) if i > 0 else 0)\n",
        " \n",
        "fare_log_dist = sns.distplot(titanic_df[\"Fare_log\"], color=\"m\", label=\"Skewness : %.2f\"%(titanic_df[\"Fare_log\"].skew()))\n",
        "fare_log_dist = fare_log_dist.legend(loc=\"best\")\n",
        "plt.show()"
      ],
      "execution_count": 12,
      "outputs": [
        {
          "output_type": "display_data",
          "data": {
            "image/png": "[encoded data removed]",
            "text/plain": [
              "<Figure size 432x288 with 1 Axes>"
            ]
          },
          "metadata": {
            "tags": [],
            "needs_background": "light"
          }
        }
      ]
    },
    {
      "cell_type": "markdown",
      "metadata": {
        "id": "1qG674TAunq6",
        "colab_type": "text"
      },
      "source": [
        "For the Age feature in our training data set, there are 177 out of 891 missing values. First, we would like to know the correlation of age and other features by using a heat map"
      ]
    },
    {
      "cell_type": "code",
      "metadata": {
        "id": "ofrgA0ueup6E",
        "colab_type": "code",
        "colab": {
          "base_uri": "https://localhost:8080/",
          "height": 280
        },
        "outputId": "10f7d046-7e43-4eab-fe4b-62471f223815"
      },
      "source": [
        "age_heat = sns.heatmap(titanic_df[[\"Age\",\"Sex\",\"SibSp\",\"Parch\",\"Pclass\",\"Embarked\"]].corr(),annot=True)\n",
        "plt.show() "
      ],
      "execution_count": 13,
      "outputs": [
        {
          "output_type": "display_data",
          "data": {
            "image/png": "[encoded data removed]",
            "text/plain": [
              "<Figure size 432x288 with 2 Axes>"
            ]
          },
          "metadata": {
            "tags": [],
            "needs_background": "light"
          }
        }
      ]
    },
    {
      "cell_type": "markdown",
      "metadata": {
        "id": "rXt_Zk8TvQTu",
        "colab_type": "text"
      },
      "source": [
        "We find that “SibSp”, “Parch” and “Pclass” are relevant to “Age”. Thus, instead of filling those missing ages with the mean value, we should compare the ages of passengers with similar family sizes and classes. If no similar background is found, we fill the missing age with a random value between the mean value minus standard deviation and the mean value plus standard deviation."
      ]
    },
    {
      "cell_type": "code",
      "metadata": {
        "id": "d4pa8JgpvR28",
        "colab_type": "code",
        "colab": {
          "base_uri": "https://localhost:8080/",
          "height": 125
        },
        "outputId": "44ecbc8e-a1ce-4a60-c6d6-a3d7761f9935"
      },
      "source": [
        "index_NaN_age = list(titanic_df[\"Age\"][titanic_df[\"Age\"].isnull()].index)\n",
        " \n",
        "for i in index_NaN_age :\n",
        "  age_mean = titanic_df[\"Age\"].mean()\n",
        "  age_std = titanic_df[\"Age\"].std()\n",
        "  age_pred_w_spc = titanic_df[\"Age\"][((titanic_df['SibSp'] == titanic_df.iloc[i][\"SibSp\"]) & (titanic_df['Parch'] == titanic_df.iloc[i][\"Parch\"]) & (titanic_df['Pclass'] == titanic_df.iloc[i][\"Pclass\"]))].mean()\n",
        "  age_pred_wo_spc = np.random.randint(age_mean - age_std, age_mean + age_std)\n",
        " \n",
        "  if not np.isnan(age_pred_w_spc) :\n",
        "     titanic_df['Age'].iloc[i] = age_pred_w_spc\n",
        "  else :\n",
        "     titanic_df['Age'].iloc[i] = age_pred_wo_spc"
      ],
      "execution_count": 14,
      "outputs": [
        {
          "output_type": "stream",
          "text": [
            "/usr/local/lib/python3.6/dist-packages/pandas/core/indexing.py:671: SettingWithCopyWarning: \n",
            "A value is trying to be set on a copy of a slice from a DataFrame\n",
            "\n",
            "See the caveats in the documentation: https://pandas.pydata.org/pandas-docs/stable/user_guide/indexing.html#returning-a-view-versus-a-copy\n",
            "  self._setitem_with_indexer(indexer, value)\n"
          ],
          "name": "stderr"
        }
      ]
    },
    {
      "cell_type": "code",
      "metadata": {
        "id": "G-SlTu-kwADA",
        "colab_type": "code",
        "colab": {
          "base_uri": "https://localhost:8080/",
          "height": 157
        },
        "outputId": "a8599b72-36ec-4b8d-ead7-763bcd95bd24"
      },
      "source": [
        "titanic_df.head(5)\n",
        "X_learning = titanic_df.drop(['SibSp', 'Parch', 'Fare', 'Survived', 'Fare_log', 'PassengerId','Age_wiki','Class'], axis=1)\n",
        "Y_learning = titanic_df['Survived']\n",
        "\n",
        "print(X_learning.apply(lambda x: sum(x.isnull()),axis=0))"
      ],
      "execution_count": 19,
      "outputs": [
        {
          "output_type": "stream",
          "text": [
            "Pclass        0\n",
            "Sex           0\n",
            "Age           0\n",
            "Embarked      0\n",
            "Title         0\n",
            "withParent    0\n",
            "withSib       0\n",
            "dtype: int64\n"
          ],
          "name": "stdout"
        }
      ]
    },
    {
      "cell_type": "markdown",
      "metadata": {
        "id": "qBqkjQEhxF6u",
        "colab_type": "text"
      },
      "source": [
        "now our data is ready and we use K-fold to select a model"
      ]
    },
    {
      "cell_type": "code",
      "metadata": {
        "id": "7SqUOGSGxMV4",
        "colab_type": "code",
        "colab": {
          "base_uri": "https://localhost:8080/",
          "height": 228
        },
        "outputId": "a5b4f770-ba62-4837-cbf5-726d4a58b078"
      },
      "source": [
        "from sklearn import model_selection\n",
        "\n",
        "from sklearn.linear_model import LogisticRegression\n",
        "from sklearn.naive_bayes import GaussianNB\n",
        "from sklearn.discriminant_analysis import LinearDiscriminantAnalysis\n",
        "from sklearn.discriminant_analysis import QuadraticDiscriminantAnalysis\n",
        "from sklearn.svm import SVC\n",
        "from sklearn.svm import LinearSVC\n",
        "from sklearn.linear_model import SGDClassifier\n",
        "from sklearn.neighbors import KNeighborsClassifier\n",
        "from sklearn.tree import DecisionTreeClassifier\n",
        "from sklearn.ensemble import RandomForestClassifier\n",
        "import xgboost as xgb\n",
        "\n",
        "random_state = 33\n",
        "models = []\n",
        "models.append((\"RFC\", RandomForestClassifier(random_state=random_state)) )\n",
        "models.append((\"SVC\", SVC(random_state=random_state)) )\n",
        "#models.append((\"LoR\", LogisticRegression(random_state=random_state)) )\n",
        "models.append((\"LDA\", LinearDiscriminantAnalysis()) )\n",
        "models.append((\"QDA\", QuadraticDiscriminantAnalysis()) )\n",
        "models.append((\"DTC\", DecisionTreeClassifier(random_state=random_state)) )\n",
        "models.append((\"XGB\", xgb.XGBClassifier()) )\n",
        "\n",
        "\n",
        " \n",
        "kfold = model_selection.KFold(n_splits=10)\n",
        " \n",
        "for name, model in models:\n",
        "     #cross validation among models, score based on accuracy\n",
        "     cv_results = model_selection.cross_val_score(model, X_learning, Y_learning, scoring='accuracy', cv=kfold )\n",
        "     print(\"\\n[%s] Mean: %.8f Std. Dev.: %8f\" %(name, cv_results.mean(), cv_results.std()))"
      ],
      "execution_count": 24,
      "outputs": [
        {
          "output_type": "stream",
          "text": [
            "\n",
            "[RFC] Mean: 0.79694132 Std. Dev.: 0.036777\n",
            "\n",
            "[SVC] Mean: 0.69821473 Std. Dev.: 0.078551\n",
            "\n",
            "[LDA] Mean: 0.79685393 Std. Dev.: 0.041280\n",
            "\n",
            "[QDA] Mean: 0.78794007 Std. Dev.: 0.033377\n",
            "\n",
            "[DTC] Mean: 0.80031211 Std. Dev.: 0.032501\n",
            "\n",
            "[XGB] Mean: 0.82268414 Std. Dev.: 0.022801\n"
          ],
          "name": "stdout"
        }
      ]
    }
  ]
}