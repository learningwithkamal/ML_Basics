{
  "nbformat": 4,
  "nbformat_minor": 0,
  "metadata": {
    "colab": {
      "name": "Feature_engineering.ipynb",
      "provenance": [],
      "collapsed_sections": [],
      "authorship_tag": "ABX9TyM7/z2VOd+MNXf23pMpAlp3",
      "include_colab_link": true
    },
    "kernelspec": {
      "name": "python3",
      "display_name": "Python 3"
    }
  },
  "cells": [
    {
      "cell_type": "markdown",
      "metadata": {
        "id": "view-in-github",
        "colab_type": "text"
      },
      "source": [
        "<a href=\"https://colab.research.google.com/github/learningwithkamal/ML_Basics/blob/master/Feature_engineering.ipynb\" target=\"_parent\"><img src=\"https://colab.research.google.com/assets/colab-badge.svg\" alt=\"Open In Colab\"/></a>"
      ]
    },
    {
      "cell_type": "code",
      "metadata": {
        "id": "SLyQr7yZDE7p",
        "colab_type": "code",
        "colab": {
          "base_uri": "https://localhost:8080/",
          "height": 70
        },
        "outputId": "06d0508d-71c1-4be9-a1ce-4ddff6f0a69f"
      },
      "source": [
        "import numpy as np\n",
        "import pandas as pd\n",
        "import matplotlib.pyplot as plt\n",
        "import seaborn as sns"
      ],
      "execution_count": null,
      "outputs": [
        {
          "output_type": "stream",
          "text": [
            "/usr/local/lib/python3.6/dist-packages/statsmodels/tools/_testing.py:19: FutureWarning: pandas.util.testing is deprecated. Use the functions in the public API at pandas.testing instead.\n",
            "  import pandas.util.testing as tm\n"
          ],
          "name": "stderr"
        }
      ]
    },
    {
      "cell_type": "code",
      "metadata": {
        "id": "0QglNYxkTdYw",
        "colab_type": "code",
        "colab": {
          "base_uri": "https://localhost:8080/",
          "height": 501
        },
        "outputId": "febeb94b-530a-46ba-8d97-83c6b865de4f"
      },
      "source": [
        "titanic_df = pd.read_csv(filepath_or_buffer=\"https://raw.githubusercontent.com/learningwithkamal/ML_Basics/master/Titanic_train.csv\")\n",
        "titanic_df.head(5)"
      ],
      "execution_count": null,
      "outputs": [
        {
          "output_type": "execute_result",
          "data": {
            "text/html": [
              "<div>\n",
              "<style scoped>\n",
              "    .dataframe tbody tr th:only-of-type {\n",
              "        vertical-align: middle;\n",
              "    }\n",
              "\n",
              "    .dataframe tbody tr th {\n",
              "        vertical-align: top;\n",
              "    }\n",
              "\n",
              "    .dataframe thead th {\n",
              "        text-align: right;\n",
              "    }\n",
              "</style>\n",
              "<table border=\"1\" class=\"dataframe\">\n",
              "  <thead>\n",
              "    <tr style=\"text-align: right;\">\n",
              "      <th></th>\n",
              "      <th>PassengerId</th>\n",
              "      <th>Survived</th>\n",
              "      <th>Pclass</th>\n",
              "      <th>Name</th>\n",
              "      <th>Sex</th>\n",
              "      <th>Age</th>\n",
              "      <th>SibSp</th>\n",
              "      <th>Parch</th>\n",
              "      <th>Ticket</th>\n",
              "      <th>Fare</th>\n",
              "      <th>Cabin</th>\n",
              "      <th>Embarked</th>\n",
              "      <th>WikiId</th>\n",
              "      <th>Name_wiki</th>\n",
              "      <th>Age_wiki</th>\n",
              "      <th>Hometown</th>\n",
              "      <th>Boarded</th>\n",
              "      <th>Destination</th>\n",
              "      <th>Lifeboat</th>\n",
              "      <th>Body</th>\n",
              "      <th>Class</th>\n",
              "    </tr>\n",
              "  </thead>\n",
              "  <tbody>\n",
              "    <tr>\n",
              "      <th>0</th>\n",
              "      <td>1</td>\n",
              "      <td>0.0</td>\n",
              "      <td>3</td>\n",
              "      <td>Braund, Mr. Owen Harris</td>\n",
              "      <td>male</td>\n",
              "      <td>22.0</td>\n",
              "      <td>1</td>\n",
              "      <td>0</td>\n",
              "      <td>A/5 21171</td>\n",
              "      <td>7.2500</td>\n",
              "      <td>NaN</td>\n",
              "      <td>S</td>\n",
              "      <td>691.0</td>\n",
              "      <td>Braund, Mr. Owen Harris</td>\n",
              "      <td>22.0</td>\n",
              "      <td>Bridgerule, Devon, England</td>\n",
              "      <td>Southampton</td>\n",
              "      <td>Qu'Appelle Valley, Saskatchewan, Canada</td>\n",
              "      <td>NaN</td>\n",
              "      <td>NaN</td>\n",
              "      <td>3.0</td>\n",
              "    </tr>\n",
              "    <tr>\n",
              "      <th>1</th>\n",
              "      <td>2</td>\n",
              "      <td>1.0</td>\n",
              "      <td>1</td>\n",
              "      <td>Cumings, Mrs. John Bradley (Florence Briggs Th...</td>\n",
              "      <td>female</td>\n",
              "      <td>38.0</td>\n",
              "      <td>1</td>\n",
              "      <td>0</td>\n",
              "      <td>PC 17599</td>\n",
              "      <td>71.2833</td>\n",
              "      <td>C85</td>\n",
              "      <td>C</td>\n",
              "      <td>90.0</td>\n",
              "      <td>Cumings, Mrs. Florence Briggs (née Thayer)</td>\n",
              "      <td>35.0</td>\n",
              "      <td>New York, New York, US</td>\n",
              "      <td>Cherbourg</td>\n",
              "      <td>New York, New York, US</td>\n",
              "      <td>4</td>\n",
              "      <td>NaN</td>\n",
              "      <td>1.0</td>\n",
              "    </tr>\n",
              "    <tr>\n",
              "      <th>2</th>\n",
              "      <td>3</td>\n",
              "      <td>1.0</td>\n",
              "      <td>3</td>\n",
              "      <td>Heikkinen, Miss. Laina</td>\n",
              "      <td>female</td>\n",
              "      <td>26.0</td>\n",
              "      <td>0</td>\n",
              "      <td>0</td>\n",
              "      <td>STON/O2. 3101282</td>\n",
              "      <td>7.9250</td>\n",
              "      <td>NaN</td>\n",
              "      <td>S</td>\n",
              "      <td>865.0</td>\n",
              "      <td>Heikkinen, Miss Laina</td>\n",
              "      <td>26.0</td>\n",
              "      <td>Jyväskylä, Finland</td>\n",
              "      <td>Southampton</td>\n",
              "      <td>New York City</td>\n",
              "      <td>14?</td>\n",
              "      <td>NaN</td>\n",
              "      <td>3.0</td>\n",
              "    </tr>\n",
              "    <tr>\n",
              "      <th>3</th>\n",
              "      <td>4</td>\n",
              "      <td>1.0</td>\n",
              "      <td>1</td>\n",
              "      <td>Futrelle, Mrs. Jacques Heath (Lily May Peel)</td>\n",
              "      <td>female</td>\n",
              "      <td>35.0</td>\n",
              "      <td>1</td>\n",
              "      <td>0</td>\n",
              "      <td>113803</td>\n",
              "      <td>53.1000</td>\n",
              "      <td>C123</td>\n",
              "      <td>S</td>\n",
              "      <td>127.0</td>\n",
              "      <td>Futrelle, Mrs. Lily May (née Peel)</td>\n",
              "      <td>35.0</td>\n",
              "      <td>Scituate, Massachusetts, US</td>\n",
              "      <td>Southampton</td>\n",
              "      <td>Scituate, Massachusetts, US</td>\n",
              "      <td>D</td>\n",
              "      <td>NaN</td>\n",
              "      <td>1.0</td>\n",
              "    </tr>\n",
              "    <tr>\n",
              "      <th>4</th>\n",
              "      <td>5</td>\n",
              "      <td>0.0</td>\n",
              "      <td>3</td>\n",
              "      <td>Allen, Mr. William Henry</td>\n",
              "      <td>male</td>\n",
              "      <td>35.0</td>\n",
              "      <td>0</td>\n",
              "      <td>0</td>\n",
              "      <td>373450</td>\n",
              "      <td>8.0500</td>\n",
              "      <td>NaN</td>\n",
              "      <td>S</td>\n",
              "      <td>627.0</td>\n",
              "      <td>Allen, Mr. William Henry</td>\n",
              "      <td>35.0</td>\n",
              "      <td>Birmingham, West Midlands, England</td>\n",
              "      <td>Southampton</td>\n",
              "      <td>New York City</td>\n",
              "      <td>NaN</td>\n",
              "      <td>NaN</td>\n",
              "      <td>3.0</td>\n",
              "    </tr>\n",
              "  </tbody>\n",
              "</table>\n",
              "</div>"
            ],
            "text/plain": [
              "   PassengerId  Survived  Pclass  ... Lifeboat Body  Class\n",
              "0            1       0.0       3  ...      NaN  NaN    3.0\n",
              "1            2       1.0       1  ...        4  NaN    1.0\n",
              "2            3       1.0       3  ...      14?  NaN    3.0\n",
              "3            4       1.0       1  ...        D  NaN    1.0\n",
              "4            5       0.0       3  ...      NaN  NaN    3.0\n",
              "\n",
              "[5 rows x 21 columns]"
            ]
          },
          "metadata": {
            "tags": []
          },
          "execution_count": 3
        }
      ]
    },
    {
      "cell_type": "code",
      "metadata": {
        "id": "NMZVw6foT3mm",
        "colab_type": "code",
        "colab": {
          "base_uri": "https://localhost:8080/",
          "height": 386
        },
        "outputId": "5c9525ef-b1e7-408a-ff7a-3329c15673ef"
      },
      "source": [
        "print(titanic_df.apply(lambda x: sum(x.isnull()),axis=0))"
      ],
      "execution_count": null,
      "outputs": [
        {
          "output_type": "stream",
          "text": [
            "PassengerId      0\n",
            "Survived         0\n",
            "Pclass           0\n",
            "Name             0\n",
            "Sex              0\n",
            "Age            177\n",
            "SibSp            0\n",
            "Parch            0\n",
            "Ticket           0\n",
            "Fare             0\n",
            "Cabin          687\n",
            "Embarked         2\n",
            "WikiId           2\n",
            "Name_wiki        2\n",
            "Age_wiki         4\n",
            "Hometown         2\n",
            "Boarded          2\n",
            "Destination      2\n",
            "Lifeboat       546\n",
            "Body           804\n",
            "Class            2\n",
            "dtype: int64\n"
          ],
          "name": "stdout"
        }
      ]
    },
    {
      "cell_type": "markdown",
      "metadata": {
        "id": "TZeKbtmuUKcw",
        "colab_type": "text"
      },
      "source": [
        "# there are missing values in “Age”,“Cabin” and “Embarked” features\n",
        "\n",
        "# “Name”, “Sex”, “Ticket”, “Cabin” and “Embarked” are all non-numeric features\n",
        "\n",
        "# **Label encoding of \"Sex\"**"
      ]
    },
    {
      "cell_type": "markdown",
      "metadata": {
        "id": "nbtEyytCN1IV",
        "colab_type": "text"
      },
      "source": [
        ""
      ]
    },
    {
      "cell_type": "code",
      "metadata": {
        "id": "JTAV2KhGUypF",
        "colab_type": "code",
        "colab": {
          "base_uri": "https://localhost:8080/",
          "height": 501
        },
        "outputId": "3dc3ec93-bcf7-46ca-b403-53649c6cc571"
      },
      "source": [
        "titanic_df[\"Sex\"] = titanic_df[\"Sex\"].map({\"male\": 1, \"female\":0})\n",
        "titanic_df.head(5)"
      ],
      "execution_count": null,
      "outputs": [
        {
          "output_type": "execute_result",
          "data": {
            "text/html": [
              "<div>\n",
              "<style scoped>\n",
              "    .dataframe tbody tr th:only-of-type {\n",
              "        vertical-align: middle;\n",
              "    }\n",
              "\n",
              "    .dataframe tbody tr th {\n",
              "        vertical-align: top;\n",
              "    }\n",
              "\n",
              "    .dataframe thead th {\n",
              "        text-align: right;\n",
              "    }\n",
              "</style>\n",
              "<table border=\"1\" class=\"dataframe\">\n",
              "  <thead>\n",
              "    <tr style=\"text-align: right;\">\n",
              "      <th></th>\n",
              "      <th>PassengerId</th>\n",
              "      <th>Survived</th>\n",
              "      <th>Pclass</th>\n",
              "      <th>Name</th>\n",
              "      <th>Sex</th>\n",
              "      <th>Age</th>\n",
              "      <th>SibSp</th>\n",
              "      <th>Parch</th>\n",
              "      <th>Ticket</th>\n",
              "      <th>Fare</th>\n",
              "      <th>Cabin</th>\n",
              "      <th>Embarked</th>\n",
              "      <th>WikiId</th>\n",
              "      <th>Name_wiki</th>\n",
              "      <th>Age_wiki</th>\n",
              "      <th>Hometown</th>\n",
              "      <th>Boarded</th>\n",
              "      <th>Destination</th>\n",
              "      <th>Lifeboat</th>\n",
              "      <th>Body</th>\n",
              "      <th>Class</th>\n",
              "    </tr>\n",
              "  </thead>\n",
              "  <tbody>\n",
              "    <tr>\n",
              "      <th>0</th>\n",
              "      <td>1</td>\n",
              "      <td>0.0</td>\n",
              "      <td>3</td>\n",
              "      <td>Braund, Mr. Owen Harris</td>\n",
              "      <td>1</td>\n",
              "      <td>22.0</td>\n",
              "      <td>1</td>\n",
              "      <td>0</td>\n",
              "      <td>A/5 21171</td>\n",
              "      <td>7.2500</td>\n",
              "      <td>NaN</td>\n",
              "      <td>S</td>\n",
              "      <td>691.0</td>\n",
              "      <td>Braund, Mr. Owen Harris</td>\n",
              "      <td>22.0</td>\n",
              "      <td>Bridgerule, Devon, England</td>\n",
              "      <td>Southampton</td>\n",
              "      <td>Qu'Appelle Valley, Saskatchewan, Canada</td>\n",
              "      <td>NaN</td>\n",
              "      <td>NaN</td>\n",
              "      <td>3.0</td>\n",
              "    </tr>\n",
              "    <tr>\n",
              "      <th>1</th>\n",
              "      <td>2</td>\n",
              "      <td>1.0</td>\n",
              "      <td>1</td>\n",
              "      <td>Cumings, Mrs. John Bradley (Florence Briggs Th...</td>\n",
              "      <td>0</td>\n",
              "      <td>38.0</td>\n",
              "      <td>1</td>\n",
              "      <td>0</td>\n",
              "      <td>PC 17599</td>\n",
              "      <td>71.2833</td>\n",
              "      <td>C85</td>\n",
              "      <td>C</td>\n",
              "      <td>90.0</td>\n",
              "      <td>Cumings, Mrs. Florence Briggs (née Thayer)</td>\n",
              "      <td>35.0</td>\n",
              "      <td>New York, New York, US</td>\n",
              "      <td>Cherbourg</td>\n",
              "      <td>New York, New York, US</td>\n",
              "      <td>4</td>\n",
              "      <td>NaN</td>\n",
              "      <td>1.0</td>\n",
              "    </tr>\n",
              "    <tr>\n",
              "      <th>2</th>\n",
              "      <td>3</td>\n",
              "      <td>1.0</td>\n",
              "      <td>3</td>\n",
              "      <td>Heikkinen, Miss. Laina</td>\n",
              "      <td>0</td>\n",
              "      <td>26.0</td>\n",
              "      <td>0</td>\n",
              "      <td>0</td>\n",
              "      <td>STON/O2. 3101282</td>\n",
              "      <td>7.9250</td>\n",
              "      <td>NaN</td>\n",
              "      <td>S</td>\n",
              "      <td>865.0</td>\n",
              "      <td>Heikkinen, Miss Laina</td>\n",
              "      <td>26.0</td>\n",
              "      <td>Jyväskylä, Finland</td>\n",
              "      <td>Southampton</td>\n",
              "      <td>New York City</td>\n",
              "      <td>14?</td>\n",
              "      <td>NaN</td>\n",
              "      <td>3.0</td>\n",
              "    </tr>\n",
              "    <tr>\n",
              "      <th>3</th>\n",
              "      <td>4</td>\n",
              "      <td>1.0</td>\n",
              "      <td>1</td>\n",
              "      <td>Futrelle, Mrs. Jacques Heath (Lily May Peel)</td>\n",
              "      <td>0</td>\n",
              "      <td>35.0</td>\n",
              "      <td>1</td>\n",
              "      <td>0</td>\n",
              "      <td>113803</td>\n",
              "      <td>53.1000</td>\n",
              "      <td>C123</td>\n",
              "      <td>S</td>\n",
              "      <td>127.0</td>\n",
              "      <td>Futrelle, Mrs. Lily May (née Peel)</td>\n",
              "      <td>35.0</td>\n",
              "      <td>Scituate, Massachusetts, US</td>\n",
              "      <td>Southampton</td>\n",
              "      <td>Scituate, Massachusetts, US</td>\n",
              "      <td>D</td>\n",
              "      <td>NaN</td>\n",
              "      <td>1.0</td>\n",
              "    </tr>\n",
              "    <tr>\n",
              "      <th>4</th>\n",
              "      <td>5</td>\n",
              "      <td>0.0</td>\n",
              "      <td>3</td>\n",
              "      <td>Allen, Mr. William Henry</td>\n",
              "      <td>1</td>\n",
              "      <td>35.0</td>\n",
              "      <td>0</td>\n",
              "      <td>0</td>\n",
              "      <td>373450</td>\n",
              "      <td>8.0500</td>\n",
              "      <td>NaN</td>\n",
              "      <td>S</td>\n",
              "      <td>627.0</td>\n",
              "      <td>Allen, Mr. William Henry</td>\n",
              "      <td>35.0</td>\n",
              "      <td>Birmingham, West Midlands, England</td>\n",
              "      <td>Southampton</td>\n",
              "      <td>New York City</td>\n",
              "      <td>NaN</td>\n",
              "      <td>NaN</td>\n",
              "      <td>3.0</td>\n",
              "    </tr>\n",
              "  </tbody>\n",
              "</table>\n",
              "</div>"
            ],
            "text/plain": [
              "   PassengerId  Survived  Pclass  ... Lifeboat  Body  Class\n",
              "0            1       0.0       3  ...      NaN   NaN    3.0\n",
              "1            2       1.0       1  ...        4   NaN    1.0\n",
              "2            3       1.0       3  ...      14?   NaN    3.0\n",
              "3            4       1.0       1  ...        D   NaN    1.0\n",
              "4            5       0.0       3  ...      NaN   NaN    3.0\n",
              "\n",
              "[5 rows x 21 columns]"
            ]
          },
          "metadata": {
            "tags": []
          },
          "execution_count": 5
        }
      ]
    },
    {
      "cell_type": "markdown",
      "metadata": {
        "id": "aqfR2XTlYee9",
        "colab_type": "text"
      },
      "source": [
        "# check the current content of the “Embarked” feature:"
      ]
    },
    {
      "cell_type": "code",
      "metadata": {
        "id": "6VwcejPqYhVw",
        "colab_type": "code",
        "colab": {
          "base_uri": "https://localhost:8080/",
          "height": 151
        },
        "outputId": "df8a8b51-e3f6-4b5d-a47f-97572d60bb61"
      },
      "source": [
        "print(titanic_df['Embarked'].value_counts(ascending=True))\n",
        "print(titanic_df['Embarked'].value_counts(normalize=True,ascending=True))"
      ],
      "execution_count": null,
      "outputs": [
        {
          "output_type": "stream",
          "text": [
            "Q     77\n",
            "C    168\n",
            "S    644\n",
            "Name: Embarked, dtype: int64\n",
            "Q    0.086614\n",
            "C    0.188976\n",
            "S    0.724409\n",
            "Name: Embarked, dtype: float64\n"
          ],
          "name": "stdout"
        }
      ]
    },
    {
      "cell_type": "markdown",
      "metadata": {
        "id": "sGIZuhhdY38z",
        "colab_type": "text"
      },
      "source": [
        "# we can fill “S” into the 2 missing values and map all values into numbers.\n",
        "\n",
        "\n"
      ]
    },
    {
      "cell_type": "code",
      "metadata": {
        "id": "ir72lA5BY6k-",
        "colab_type": "code",
        "colab": {}
      },
      "source": [
        "titanic_df['Embarked'] = titanic_df['Embarked'].fillna('S')\n",
        "titanic_df['Embarked'] = titanic_df['Embarked'].map( {'S': 0, 'C': 1, 'Q': 2} ).astype(int)"
      ],
      "execution_count": null,
      "outputs": []
    },
    {
      "cell_type": "markdown",
      "metadata": {
        "id": "ex-bPB1xZUND",
        "colab_type": "text"
      },
      "source": [
        "# **Scrubbing**\n",
        "# For “Cabin” feature, since there are 687 out of 891 missing records, we can simply skip this feature.\n",
        "# There is no null values in “Ticket” feature, but we hardly find relationship between survival rate and ticket number, so we skip this feature as well."
      ]
    },
    {
      "cell_type": "markdown",
      "metadata": {
        "id": "5hapgrzHbjYr",
        "colab_type": "text"
      },
      "source": [
        "# **Now we anlayze the non-numberic feature \"Name\"**\n",
        "# Each value of this feature has a title i.e. Mr, Mrs "
      ]
    },
    {
      "cell_type": "code",
      "metadata": {
        "id": "HdPhSAPwZbuT",
        "colab_type": "code",
        "colab": {
          "base_uri": "https://localhost:8080/",
          "height": 319
        },
        "outputId": "ce14eaab-106b-4bf5-df93-6b73549b034f"
      },
      "source": [
        "titanic_df['Title'] = titanic_df['Name'].apply(lambda x: x.split(\",\")[1].split(\".\")[0].strip())\n",
        "print(titanic_df['Title'].value_counts(ascending=True, dropna=False))"
      ],
      "execution_count": null,
      "outputs": [
        {
          "output_type": "stream",
          "text": [
            "Sir               1\n",
            "the Countess      1\n",
            "Ms                1\n",
            "Jonkheer          1\n",
            "Lady              1\n",
            "Mme               1\n",
            "Capt              1\n",
            "Don               1\n",
            "Major             2\n",
            "Col               2\n",
            "Mlle              2\n",
            "Rev               6\n",
            "Dr                7\n",
            "Master           40\n",
            "Mrs             125\n",
            "Miss            182\n",
            "Mr              517\n",
            "Name: Title, dtype: int64\n"
          ],
          "name": "stdout"
        }
      ]
    },
    {
      "cell_type": "markdown",
      "metadata": {
        "id": "djVRxv9FfwgG",
        "colab_type": "text"
      },
      "source": [
        "# We group different titles according to their similarity\n",
        "And see their relation with survival rate"
      ]
    },
    {
      "cell_type": "code",
      "metadata": {
        "id": "q6tUMM7Qf1ox",
        "colab_type": "code",
        "colab": {
          "base_uri": "https://localhost:8080/",
          "height": 283
        },
        "outputId": "516bf0a7-73f2-4ec8-ff21-e69e9a4cc97b"
      },
      "source": [
        "titanic_df[\"Title\"] = titanic_df[\"Title\"].replace(['Lady', 'the Countess','Countess','Capt', 'Col','Don', 'Dr', 'Major', 'Rev', 'Sir', 'Jonkheer', 'Dona'], 'Rare')\n",
        "titanic_df['Title'] = titanic_df['Title'].replace('Mlle', 'Miss')\n",
        "titanic_df['Title'] = titanic_df['Title'].replace('Ms', 'Miss')\n",
        "titanic_df['Title'] = titanic_df['Title'].replace('Mme', 'Mrs')\n",
        "\n",
        "sns.barplot(x=\"Title\", y=\"Survived\", data=titanic_df)\n",
        " \n",
        "plt.show()"
      ],
      "execution_count": null,
      "outputs": [
        {
          "output_type": "display_data",
          "data": {
            "image/png": "[encoded data removed]",
            "text/plain": [
              "<Figure size 432x288 with 1 Axes>"
            ]
          },
          "metadata": {
            "tags": [],
            "needs_background": "light"
          }
        }
      ]
    },
    {
      "cell_type": "code",
      "metadata": {
        "id": "nYHnav04grYd",
        "colab_type": "code",
        "colab": {
          "base_uri": "https://localhost:8080/",
          "height": 195
        },
        "outputId": "3898de0c-1b5f-4a68-9829-7bcedab3f431"
      },
      "source": [
        "title_mapping = {\"Mr\": 1, \"Miss\": 2, \"Mrs\": 3, \"Master\": 4, \"Rare\": 5}\n",
        "titanic_df['Title'] = titanic_df['Title'].map(title_mapping)\n",
        " \n",
        "titanic_df = titanic_df.drop([\"Name\", \"Ticket\", \"Cabin\",'Name_wiki','Hometown','Boarded','Destination','Lifeboat','Body','WikiId'], axis=1)\n",
        "titanic_df.head(5)"
      ],
      "execution_count": null,
      "outputs": [
        {
          "output_type": "execute_result",
          "data": {
            "text/html": [
              "<div>\n",
              "<style scoped>\n",
              "    .dataframe tbody tr th:only-of-type {\n",
              "        vertical-align: middle;\n",
              "    }\n",
              "\n",
              "    .dataframe tbody tr th {\n",
              "        vertical-align: top;\n",
              "    }\n",
              "\n",
              "    .dataframe thead th {\n",
              "        text-align: right;\n",
              "    }\n",
              "</style>\n",
              "<table border=\"1\" class=\"dataframe\">\n",
              "  <thead>\n",
              "    <tr style=\"text-align: right;\">\n",
              "      <th></th>\n",
              "      <th>PassengerId</th>\n",
              "      <th>Survived</th>\n",
              "      <th>Pclass</th>\n",
              "      <th>Sex</th>\n",
              "      <th>Age</th>\n",
              "      <th>SibSp</th>\n",
              "      <th>Parch</th>\n",
              "      <th>Fare</th>\n",
              "      <th>Embarked</th>\n",
              "      <th>Age_wiki</th>\n",
              "      <th>Class</th>\n",
              "      <th>Title</th>\n",
              "    </tr>\n",
              "  </thead>\n",
              "  <tbody>\n",
              "    <tr>\n",
              "      <th>0</th>\n",
              "      <td>1</td>\n",
              "      <td>0.0</td>\n",
              "      <td>3</td>\n",
              "      <td>1</td>\n",
              "      <td>22.0</td>\n",
              "      <td>1</td>\n",
              "      <td>0</td>\n",
              "      <td>7.2500</td>\n",
              "      <td>0</td>\n",
              "      <td>22.0</td>\n",
              "      <td>3.0</td>\n",
              "      <td>1</td>\n",
              "    </tr>\n",
              "    <tr>\n",
              "      <th>1</th>\n",
              "      <td>2</td>\n",
              "      <td>1.0</td>\n",
              "      <td>1</td>\n",
              "      <td>0</td>\n",
              "      <td>38.0</td>\n",
              "      <td>1</td>\n",
              "      <td>0</td>\n",
              "      <td>71.2833</td>\n",
              "      <td>1</td>\n",
              "      <td>35.0</td>\n",
              "      <td>1.0</td>\n",
              "      <td>3</td>\n",
              "    </tr>\n",
              "    <tr>\n",
              "      <th>2</th>\n",
              "      <td>3</td>\n",
              "      <td>1.0</td>\n",
              "      <td>3</td>\n",
              "      <td>0</td>\n",
              "      <td>26.0</td>\n",
              "      <td>0</td>\n",
              "      <td>0</td>\n",
              "      <td>7.9250</td>\n",
              "      <td>0</td>\n",
              "      <td>26.0</td>\n",
              "      <td>3.0</td>\n",
              "      <td>2</td>\n",
              "    </tr>\n",
              "    <tr>\n",
              "      <th>3</th>\n",
              "      <td>4</td>\n",
              "      <td>1.0</td>\n",
              "      <td>1</td>\n",
              "      <td>0</td>\n",
              "      <td>35.0</td>\n",
              "      <td>1</td>\n",
              "      <td>0</td>\n",
              "      <td>53.1000</td>\n",
              "      <td>0</td>\n",
              "      <td>35.0</td>\n",
              "      <td>1.0</td>\n",
              "      <td>3</td>\n",
              "    </tr>\n",
              "    <tr>\n",
              "      <th>4</th>\n",
              "      <td>5</td>\n",
              "      <td>0.0</td>\n",
              "      <td>3</td>\n",
              "      <td>1</td>\n",
              "      <td>35.0</td>\n",
              "      <td>0</td>\n",
              "      <td>0</td>\n",
              "      <td>8.0500</td>\n",
              "      <td>0</td>\n",
              "      <td>35.0</td>\n",
              "      <td>3.0</td>\n",
              "      <td>1</td>\n",
              "    </tr>\n",
              "  </tbody>\n",
              "</table>\n",
              "</div>"
            ],
            "text/plain": [
              "   PassengerId  Survived  Pclass  Sex  ...  Embarked  Age_wiki  Class  Title\n",
              "0            1       0.0       3    1  ...         0      22.0    3.0      1\n",
              "1            2       1.0       1    0  ...         1      35.0    1.0      3\n",
              "2            3       1.0       3    0  ...         0      26.0    3.0      2\n",
              "3            4       1.0       1    0  ...         0      35.0    1.0      3\n",
              "4            5       0.0       3    1  ...         0      35.0    3.0      1\n",
              "\n",
              "[5 rows x 12 columns]"
            ]
          },
          "metadata": {
            "tags": []
          },
          "execution_count": 10
        }
      ]
    },
    {
      "cell_type": "markdown",
      "metadata": {
        "id": "ncTdoBw3ihgH",
        "colab_type": "text"
      },
      "source": [
        "# Now we focus on SibSP and Parch features\n",
        "Adding derived features withParents and withSib"
      ]
    },
    {
      "cell_type": "code",
      "metadata": {
        "id": "aC4LPgYyincD",
        "colab_type": "code",
        "colab": {
          "base_uri": "https://localhost:8080/",
          "height": 280
        },
        "outputId": "149300dc-c2c0-4365-88d7-0945aadab1ff"
      },
      "source": [
        "titanic_df['withParent']=0\n",
        "titanic_df['withSib']=0\n",
        " \n",
        "\n",
        "titanic_df.loc[titanic_df['SibSp'] > 0,'withSib'] = 1\n",
        "titanic_df.loc[titanic_df['Parch'] > 0, 'withParent'] = 1\n",
        " \n",
        "sns.barplot(x=\"withParent\", y=\"Survived\", hue=\"withSib\", data=titanic_df)\n",
        "plt.show()"
      ],
      "execution_count": null,
      "outputs": [
        {
          "output_type": "display_data",
          "data": {
            "image/png": "[encoded data removed]",
            "text/plain": [
              "<Figure size 432x288 with 1 Axes>"
            ]
          },
          "metadata": {
            "tags": [],
            "needs_background": "light"
          }
        }
      ]
    },
    {
      "cell_type": "markdown",
      "metadata": {
        "id": "DdzB_pzFr_nI",
        "colab_type": "text"
      },
      "source": [
        "This shows Parent children have better chance of survival\n",
        "\n",
        "# **Scaling**\n",
        "\n",
        "Now we look at Fare\n",
        "There are extreme values inside the “Fare” feature. On this case, we can use logarithm to remove the impact of extreme values.\n"
      ]
    },
    {
      "cell_type": "code",
      "metadata": {
        "id": "12fC6haZsGfy",
        "colab_type": "code",
        "colab": {
          "base_uri": "https://localhost:8080/",
          "height": 280
        },
        "outputId": "57a5bc6b-a629-4ad6-dabe-662752486580"
      },
      "source": [
        "fare_dist = sns.distplot(titanic_df[\"Fare\"], color=\"m\", label=\"Skewness : %.2f\"%(titanic_df[\"Fare\"].skew()))\n",
        "fare_dist = fare_dist.legend(loc=\"best\")\n",
        "plt.show()"
      ],
      "execution_count": null,
      "outputs": [
        {
          "output_type": "display_data",
          "data": {
            "image/png": "[encoded data removed]",
            "text/plain": [
              "<Figure size 432x288 with 1 Axes>"
            ]
          },
          "metadata": {
            "tags": [],
            "needs_background": "light"
          }
        }
      ]
    },
    {
      "cell_type": "code",
      "metadata": {
        "id": "KQuRPm4Wt1EX",
        "colab_type": "code",
        "colab": {
          "base_uri": "https://localhost:8080/",
          "height": 280
        },
        "outputId": "d81c4981-c7c2-4c8a-f45f-ef2a0cb9fef6"
      },
      "source": [
        "titanic_df[\"Fare\"] = titanic_df[\"Fare\"].fillna(titanic_df[\"Fare\"].median())\n",
        "titanic_df['Fare_log'] = titanic_df[\"Fare\"].map(lambda i: np.log(i) if i > 0 else 0)\n",
        " \n",
        "fare_log_dist = sns.distplot(titanic_df[\"Fare_log\"], color=\"m\", label=\"Skewness : %.2f\"%(titanic_df[\"Fare_log\"].skew()))\n",
        "fare_log_dist = fare_log_dist.legend(loc=\"best\")\n",
        "plt.show()"
      ],
      "execution_count": null,
      "outputs": [
        {
          "output_type": "display_data",
          "data": {
            "image/png": "[encoded data removed]",
            "text/plain": [
              "<Figure size 432x288 with 1 Axes>"
            ]
          },
          "metadata": {
            "tags": [],
            "needs_background": "light"
          }
        }
      ]
    },
    {
      "cell_type": "markdown",
      "metadata": {
        "id": "1qG674TAunq6",
        "colab_type": "text"
      },
      "source": [
        "For the Age feature in our training data set, there are 177 out of 891 missing values. First, we would like to know the correlation of age and other features by using a heat map"
      ]
    },
    {
      "cell_type": "code",
      "metadata": {
        "id": "ofrgA0ueup6E",
        "colab_type": "code",
        "colab": {
          "base_uri": "https://localhost:8080/",
          "height": 280
        },
        "outputId": "c49f4873-9d21-4758-b3f0-8e1178475176"
      },
      "source": [
        "age_heat = sns.heatmap(titanic_df[[\"Age\",\"Sex\",\"SibSp\",\"Parch\",\"Pclass\",\"Embarked\"]].corr(),annot=True)\n",
        "plt.show() "
      ],
      "execution_count": null,
      "outputs": [
        {
          "output_type": "display_data",
          "data": {
            "image/png": "[encoded data removed]",
            "text/plain": [
              "<Figure size 432x288 with 2 Axes>"
            ]
          },
          "metadata": {
            "tags": [],
            "needs_background": "light"
          }
        }
      ]
    },
    {
      "cell_type": "markdown",
      "metadata": {
        "id": "rXt_Zk8TvQTu",
        "colab_type": "text"
      },
      "source": [
        "We find that “SibSp”, “Parch” and “Pclass” are relevant to “Age”. Thus, instead of filling those missing ages with the mean value, we should compare the ages of passengers with similar family sizes and classes. If no similar background is found, we fill the missing age with a random value between the mean value minus standard deviation and the mean value plus standard deviation."
      ]
    },
    {
      "cell_type": "code",
      "metadata": {
        "id": "d4pa8JgpvR28",
        "colab_type": "code",
        "colab": {
          "base_uri": "https://localhost:8080/",
          "height": 121
        },
        "outputId": "34b5a721-5984-4427-c877-ac6bbe65a80a"
      },
      "source": [
        "index_NaN_age = list(titanic_df[\"Age\"][titanic_df[\"Age\"].isnull()].index)\n",
        " \n",
        "for i in index_NaN_age :\n",
        "  age_mean = titanic_df[\"Age\"].mean()\n",
        "  age_std = titanic_df[\"Age\"].std()\n",
        "  age_pred_w_spc = titanic_df[\"Age\"][((titanic_df['SibSp'] == titanic_df.iloc[i][\"SibSp\"]) & (titanic_df['Parch'] == titanic_df.iloc[i][\"Parch\"]) & (titanic_df['Pclass'] == titanic_df.iloc[i][\"Pclass\"]))].mean()\n",
        "  age_pred_wo_spc = np.random.randint(age_mean - age_std, age_mean + age_std)\n",
        " \n",
        "  if not np.isnan(age_pred_w_spc) :\n",
        "     titanic_df['Age'].iloc[i] = age_pred_w_spc\n",
        "  else :\n",
        "     titanic_df['Age'].iloc[i] = age_pred_wo_spc"
      ],
      "execution_count": null,
      "outputs": [
        {
          "output_type": "stream",
          "text": [
            "/usr/local/lib/python3.6/dist-packages/pandas/core/indexing.py:671: SettingWithCopyWarning: \n",
            "A value is trying to be set on a copy of a slice from a DataFrame\n",
            "\n",
            "See the caveats in the documentation: https://pandas.pydata.org/pandas-docs/stable/user_guide/indexing.html#returning-a-view-versus-a-copy\n",
            "  self._setitem_with_indexer(indexer, value)\n"
          ],
          "name": "stderr"
        }
      ]
    },
    {
      "cell_type": "code",
      "metadata": {
        "id": "G-SlTu-kwADA",
        "colab_type": "code",
        "colab": {
          "base_uri": "https://localhost:8080/",
          "height": 151
        },
        "outputId": "d08df18e-d853-49b8-a8cb-f26b1e2a47b1"
      },
      "source": [
        "titanic_df.head(5)\n",
        "X_learning = titanic_df.drop(['SibSp', 'Parch', 'Fare', 'Survived', 'Fare_log', 'PassengerId','Age_wiki','Class'], axis=1)\n",
        "Y_learning = titanic_df['Survived']\n",
        "\n",
        "print(X_learning.apply(lambda x: sum(x.isnull()),axis=0))"
      ],
      "execution_count": null,
      "outputs": [
        {
          "output_type": "stream",
          "text": [
            "Pclass        0\n",
            "Sex           0\n",
            "Age           0\n",
            "Embarked      0\n",
            "Title         0\n",
            "withParent    0\n",
            "withSib       0\n",
            "dtype: int64\n"
          ],
          "name": "stdout"
        }
      ]
    },
    {
      "cell_type": "markdown",
      "metadata": {
        "id": "qBqkjQEhxF6u",
        "colab_type": "text"
      },
      "source": [
        "now our data is ready and we use K-fold to select a model"
      ]
    },
    {
      "cell_type": "code",
      "metadata": {
        "id": "7SqUOGSGxMV4",
        "colab_type": "code",
        "colab": {
          "base_uri": "https://localhost:8080/",
          "height": 218
        },
        "outputId": "4c4ce019-264b-4c13-ce72-790544648489"
      },
      "source": [
        "from sklearn import model_selection\n",
        "\n",
        "from sklearn.linear_model import LogisticRegression\n",
        "from sklearn.naive_bayes import GaussianNB\n",
        "from sklearn.discriminant_analysis import LinearDiscriminantAnalysis\n",
        "from sklearn.discriminant_analysis import QuadraticDiscriminantAnalysis\n",
        "from sklearn.svm import SVC\n",
        "from sklearn.svm import LinearSVC\n",
        "from sklearn.linear_model import SGDClassifier\n",
        "from sklearn.neighbors import KNeighborsClassifier\n",
        "from sklearn.tree import DecisionTreeClassifier\n",
        "from sklearn.ensemble import RandomForestClassifier\n",
        "import xgboost as xgb\n",
        "\n",
        "random_state = 33\n",
        "models = []\n",
        "models.append((\"RFC\", RandomForestClassifier(random_state=random_state)) )\n",
        "models.append((\"SVC\", SVC(random_state=random_state)) )\n",
        "#models.append((\"LoR\", LogisticRegression(random_state=random_state)) )\n",
        "models.append((\"LDA\", LinearDiscriminantAnalysis()) )\n",
        "models.append((\"QDA\", QuadraticDiscriminantAnalysis()) )\n",
        "models.append((\"DTC\", DecisionTreeClassifier(random_state=random_state)) )\n",
        "models.append((\"XGB\", xgb.XGBClassifier()) )\n",
        "\n",
        "\n",
        " \n",
        "kfold = model_selection.KFold(n_splits=10)\n",
        " \n",
        "for name, model in models:\n",
        "     #cross validation among models, score based on accuracy\n",
        "     cv_results = model_selection.cross_val_score(model, X_learning, Y_learning, scoring='accuracy', cv=kfold )\n",
        "     print(\"\\n[%s] Mean: %.8f Std. Dev.: %8f\" %(name, cv_results.mean(), cv_results.std()))"
      ],
      "execution_count": null,
      "outputs": [
        {
          "output_type": "stream",
          "text": [
            "\n",
            "[RFC] Mean: 0.79694132 Std. Dev.: 0.036777\n",
            "\n",
            "[SVC] Mean: 0.69933833 Std. Dev.: 0.078440\n",
            "\n",
            "[LDA] Mean: 0.79797753 Std. Dev.: 0.040828\n",
            "\n",
            "[QDA] Mean: 0.78794007 Std. Dev.: 0.033377\n",
            "\n",
            "[DTC] Mean: 0.80479401 Std. Dev.: 0.030759\n",
            "\n",
            "[XGB] Mean: 0.82043695 Std. Dev.: 0.025537\n"
          ],
          "name": "stdout"
        }
      ]
    },
    {
      "cell_type": "markdown",
      "metadata": {
        "id": "2HBALD6h2XMM",
        "colab_type": "text"
      },
      "source": [
        "# **Feature Selection **"
      ]
    },
    {
      "cell_type": "code",
      "metadata": {
        "id": "a18ELx7K_hHO",
        "colab_type": "code",
        "colab": {
          "base_uri": "https://localhost:8080/",
          "height": 551
        },
        "outputId": "84fdb0cc-9827-4d7c-a700-901e0a8d55ce"
      },
      "source": [
        "clf = DecisionTreeClassifier()\n",
        "clf.fit(X_learning, Y_learning)\n",
        "Titanic_df_modified = titanic_df.drop(['SibSp', 'Parch', 'Fare', 'Fare_log', 'PassengerId','Age_wiki','Class'], axis=1)\n",
        "pd.Series(clf.feature_importances_, index=Titanic_df_modified.columns[1:]).plot.bar(color='steelblue', figsize=(12, 6))\n",
        "\n",
        "\n",
        "\n",
        "from sklearn.feature_selection import SelectFromModel\n",
        "\n",
        "clf = DecisionTreeClassifier()\n",
        "\n",
        "\n",
        "# median (resp. the mean) of the feature importances\n",
        "trans = SelectFromModel(clf, threshold='median')\n",
        "\n",
        "\n",
        "titanic_X_trans = trans.fit_transform(X_learning, Y_learning)\n",
        "print (X_learning.head(5))\n",
        "\n",
        "\n",
        "print(\"We started with {0} features but retained only {1} of them!\".format(X_learning.shape[1] , titanic_X_trans.shape[1]))\n",
        "\n",
        "columns_retained_FromMode = Titanic_df_modified.iloc[:, 1:].columns[trans.get_support()].values\n",
        "print (columns_retained_FromMode)"
      ],
      "execution_count": null,
      "outputs": [
        {
          "output_type": "stream",
          "text": [
            "   Pclass  Sex   Age  Embarked  Title  withParent  withSib\n",
            "0       3    1  22.0         0      1           0        1\n",
            "1       1    0  38.0         1      3           0        1\n",
            "2       3    0  26.0         0      2           0        0\n",
            "3       1    0  35.0         0      3           0        1\n",
            "4       3    1  35.0         0      1           0        0\n",
            "We started with 7 features but retained only 4 of them!\n",
            "['Pclass' 'Age' 'Embarked' 'Title']\n"
          ],
          "name": "stdout"
        },
        {
          "output_type": "display_data",
          "data": {
            "image/png": "[encoded data removed]",
            "text/plain": [
              "<Figure size 864x432 with 1 Axes>"
            ]
          },
          "metadata": {
            "tags": [],
            "needs_background": "light"
          }
        }
      ]
    },
    {
      "cell_type": "code",
      "metadata": {
        "id": "sgwEWus7OqLT",
        "colab_type": "code",
        "colab": {
          "base_uri": "https://localhost:8080/",
          "height": 434
        },
        "outputId": "d77a2224-1e18-40a7-9566-9a94e5b3c874"
      },
      "source": [
        "clf = xgb.XGBClassifier()\n",
        "clf.fit(X_learning, Y_learning)\n",
        "Titanic_df_modified = titanic_df.drop(['SibSp', 'Parch', 'Fare', 'Fare_log', 'PassengerId','Age_wiki','Class'], axis=1)\n",
        "pd.Series(clf.feature_importances_, index=Titanic_df_modified.columns[1:]).plot.bar(color='steelblue', figsize=(12, 6))\n",
        "\n"
      ],
      "execution_count": null,
      "outputs": [
        {
          "output_type": "execute_result",
          "data": {
            "text/plain": [
              "<matplotlib.axes._subplots.AxesSubplot at 0x7f9b950b2e80>"
            ]
          },
          "metadata": {
            "tags": []
          },
          "execution_count": 19
        },
        {
          "output_type": "display_data",
          "data": {
            "image/png": "[encoded data removed]",
            "text/plain": [
              "<Figure size 864x432 with 1 Axes>"
            ]
          },
          "metadata": {
            "tags": [],
            "needs_background": "light"
          }
        }
      ]
    },
    {
      "cell_type": "markdown",
      "metadata": {
        "id": "m1ZpVP6V9wrX",
        "colab_type": "text"
      },
      "source": [
        "Mutual information between two random variables is a non-negative value\n",
        "which measures the dependency between the variables. \n",
        "It is equal to zero if and only if two random variables are independent\n",
        "and higher values mean higher dependency."
      ]
    },
    {
      "cell_type": "code",
      "metadata": {
        "id": "Xr5-xsyVBcch",
        "colab_type": "code",
        "colab": {
          "base_uri": "https://localhost:8080/",
          "height": 170
        },
        "outputId": "0b9eac7c-4a50-482c-ad8e-e4e6a783ca71"
      },
      "source": [
        "from sklearn.feature_selection import mutual_info_classif\n",
        "kepler_mutual_information = mutual_info_classif(X_learning, Y_learning)\n",
        "\n",
        "plt.subplots(1, figsize=(7, 1))\n",
        "sns.heatmap(kepler_mutual_information[:, np.newaxis].T, cmap='Blues', cbar=False, linewidths=1, annot=True)\n",
        "plt.yticks([], [])\n",
        "plt.gca().set_xticklabels(Titanic_df_modified.columns[1:], rotation=45, ha='right', fontsize=12)\n",
        "plt.suptitle(\"Kepler Variable Importance (mutual_info_classif)\", fontsize=18, y=1.2)\n",
        "plt.gcf().subplots_adjust(wspace=0.2)"
      ],
      "execution_count": null,
      "outputs": [
        {
          "output_type": "display_data",
          "data": {
            "image/png": "[encoded data removed]",
            "text/plain": [
              "<Figure size 504x72 with 1 Axes>"
            ]
          },
          "metadata": {
            "tags": [],
            "needs_background": "light"
          }
        }
      ]
    },
    {
      "cell_type": "markdown",
      "metadata": {
        "id": "asUpY3ml82Qa",
        "colab_type": "text"
      },
      "source": [
        "### Given an external estimator that assigns weights to features (e.g., the coefficients of a linear model), the goal of** **recursive feature elimination** (RFE) is to select features by recursively considering smaller and smaller sets of features. First, the estimator is trained on the initial set of features and the importance of each feature is obtained either through a coef_ attribute or through a feature_importances_ attribute. Then, the least important features are pruned from current set of features. That procedure is recursively repeated on the pruned set until the desired number of features to select is eventually reached"
      ]
    },
    {
      "cell_type": "code",
      "metadata": {
        "id": "6A2ytnfoRI7P",
        "colab_type": "code",
        "colab": {
          "base_uri": "https://localhost:8080/",
          "height": 50
        },
        "outputId": "55c57887-19b1-4ba8-9399-732ca0f42a35"
      },
      "source": [
        "from sklearn.datasets import make_friedman1\n",
        "from sklearn.feature_selection import RFE\n",
        "from sklearn.svm import SVR\n",
        "X, y = make_friedman1(n_samples=50, n_features=10, random_state=0)\n",
        "estimator = SVR(kernel=\"linear\")\n",
        "selector = RFE(estimator, n_features_to_select=5, step=1)\n",
        "selector = selector.fit(X, y)\n",
        "selector.support_\n",
        "#selector.ranking_\n"
      ],
      "execution_count": null,
      "outputs": [
        {
          "output_type": "execute_result",
          "data": {
            "text/plain": [
              "array([ True,  True,  True,  True,  True, False, False, False, False,\n",
              "       False])"
            ]
          },
          "metadata": {
            "tags": []
          },
          "execution_count": 3
        }
      ]
    }
  ]
}